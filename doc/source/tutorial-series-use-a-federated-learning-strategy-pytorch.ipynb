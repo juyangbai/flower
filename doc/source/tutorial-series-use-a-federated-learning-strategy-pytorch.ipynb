{
  "cells": [
    {
      "cell_type": "markdown",
      "metadata": {
        "id": "8W5T_pkI26pi"
      },
      "source": [
        "# Use a federated learning strategy\n",
        "\n",
        "Welcome to the next part of the federated learning tutorial. In previous parts of this tutorial, we introduced federated learning with PyTorch and Flower ([part 1](https://flower.ai/docs/framework/tutorial-get-started-with-flower-pytorch.html)).\n",
        "\n",
        "In this notebook, we'll begin to customize the federated learning system we built in the introductory notebook again, using the Flower framework, Flower Datasets, and PyTorch.\n",
        "\n",
        "> [Star Flower on GitHub](https://github.com/adap/flower) ⭐️ and join the Flower community on Flower Discuss and the Flower Slack to connect, ask questions, and get help:\n",
        "> - [Join Flower Discuss](https://discuss.flower.ai/) We'd love to hear from you in the `Introduction` topic! If anything is unclear, post in `Flower Help - Beginners`.\n",
        "> - [Join Flower Slack](https://flower.ai/join-slack) We'd love to hear from you in the `#introductions` channel! If anything is unclear, head over to the `#questions` channel.\n",
        "\n",
        "Let's move beyond FedAvg with Flower strategies! 🌼"
      ]
    },
    {
      "cell_type": "markdown",
      "metadata": {
        "id": "5MCRvYJl26pj"
      },
      "source": [
        "## Preparation\n",
        "\n",
        "Before we begin with the actual code, let's make sure that we have everything we need."
      ]
    },
    {
      "cell_type": "markdown",
      "metadata": {
        "id": "stb_DX1826pk"
      },
      "source": [
        "### Installing dependencies\n",
        "\n",
        "First, we install the necessary packages:"
      ]
    },
    {
      "cell_type": "code",
      "execution_count": 1,
      "metadata": {
        "id": "rog7sBcx26pk",
        "outputId": "ebb83953-69df-46bc-9c87-36ed7cbae6d0",
        "colab": {
          "base_uri": "https://localhost:8080/"
        }
      },
      "outputs": [
        {
          "output_type": "stream",
          "name": "stdout",
          "text": [
            "\u001b[2K   \u001b[90m━━━━━━━━━━━━━━━━━━━━━━━━━━━━━━━━━━━━━━━━\u001b[0m \u001b[32m65.1/65.1 MB\u001b[0m \u001b[31m33.1 MB/s\u001b[0m eta \u001b[36m0:00:00\u001b[0m\n",
            "\u001b[2K   \u001b[90m━━━━━━━━━━━━━━━━━━━━━━━━━━━━━━━━━━━━━━━━\u001b[0m \u001b[32m40.8/40.8 MB\u001b[0m \u001b[31m45.5 MB/s\u001b[0m eta \u001b[36m0:00:00\u001b[0m\n",
            "\u001b[2K   \u001b[90m━━━━━━━━━━━━━━━━━━━━━━━━━━━━━━━━━━━━━━━━\u001b[0m \u001b[32m3.9/3.9 MB\u001b[0m \u001b[31m106.2 MB/s\u001b[0m eta \u001b[36m0:00:00\u001b[0m\n",
            "\u001b[2K   \u001b[90m━━━━━━━━━━━━━━━━━━━━━━━━━━━━━━━━━━━━━━━━\u001b[0m \u001b[32m480.6/480.6 kB\u001b[0m \u001b[31m39.7 MB/s\u001b[0m eta \u001b[36m0:00:00\u001b[0m\n",
            "\u001b[2K   \u001b[90m━━━━━━━━━━━━━━━━━━━━━━━━━━━━━━━━━━━━━━━━\u001b[0m \u001b[32m179.3/179.3 kB\u001b[0m \u001b[31m17.4 MB/s\u001b[0m eta \u001b[36m0:00:00\u001b[0m\n",
            "\u001b[2K   \u001b[90m━━━━━━━━━━━━━━━━━━━━━━━━━━━━━━━━━━━━━━━━\u001b[0m \u001b[32m294.6/294.6 kB\u001b[0m \u001b[31m26.8 MB/s\u001b[0m eta \u001b[36m0:00:00\u001b[0m\n",
            "\u001b[2K   \u001b[90m━━━━━━━━━━━━━━━━━━━━━━━━━━━━━━━━━━━━━━━━\u001b[0m \u001b[32m2.3/2.3 MB\u001b[0m \u001b[31m84.8 MB/s\u001b[0m eta \u001b[36m0:00:00\u001b[0m\n",
            "\u001b[2K   \u001b[90m━━━━━━━━━━━━━━━━━━━━━━━━━━━━━━━━━━━━━━━━\u001b[0m \u001b[32m478.6/478.6 kB\u001b[0m \u001b[31m17.2 MB/s\u001b[0m eta \u001b[36m0:00:00\u001b[0m\n",
            "\u001b[2K   \u001b[90m━━━━━━━━━━━━━━━━━━━━━━━━━━━━━━━━━━━━━━━━\u001b[0m \u001b[32m78.7/78.7 kB\u001b[0m \u001b[31m2.3 MB/s\u001b[0m eta \u001b[36m0:00:00\u001b[0m\n",
            "\u001b[2K   \u001b[90m━━━━━━━━━━━━━━━━━━━━━━━━━━━━━━━━━━━━━━━━\u001b[0m \u001b[32m116.3/116.3 kB\u001b[0m \u001b[31m10.8 MB/s\u001b[0m eta \u001b[36m0:00:00\u001b[0m\n",
            "\u001b[2K   \u001b[90m━━━━━━━━━━━━━━━━━━━━━━━━━━━━━━━━━━━━━━━━\u001b[0m \u001b[32m134.8/134.8 kB\u001b[0m \u001b[31m14.3 MB/s\u001b[0m eta \u001b[36m0:00:00\u001b[0m\n",
            "\u001b[2K   \u001b[90m━━━━━━━━━━━━━━━━━━━━━━━━━━━━━━━━━━━━━━━━\u001b[0m \u001b[32m194.1/194.1 kB\u001b[0m \u001b[31m20.2 MB/s\u001b[0m eta \u001b[36m0:00:00\u001b[0m\n",
            "\u001b[?25h\u001b[31mERROR: pip's dependency resolver does not currently take into account all the packages that are installed. This behaviour is the source of the following dependency conflicts.\n",
            "gcsfs 2024.10.0 requires fsspec==2024.10.0, but you have fsspec 2024.9.0 which is incompatible.\n",
            "tensorflow-metadata 1.16.1 requires protobuf<4.21,>=3.20.3; python_version < \"3.11\", but you have protobuf 4.25.5 which is incompatible.\u001b[0m\u001b[31m\n",
            "\u001b[0m"
          ]
        }
      ],
      "source": [
        "!pip install -q flwr[simulation] flwr-datasets[vision] torch torchvision"
      ]
    },
    {
      "cell_type": "markdown",
      "metadata": {
        "id": "aj1EfXoM26pk"
      },
      "source": [
        "Now that we have all dependencies installed, we can import everything we need for this tutorial:"
      ]
    },
    {
      "cell_type": "code",
      "execution_count": 2,
      "metadata": {
        "id": "24SQA6nJ26pl",
        "outputId": "1258a6b8-b113-4974-ec0f-ed0a8f9c3dc8",
        "colab": {
          "base_uri": "https://localhost:8080/"
        }
      },
      "outputs": [
        {
          "output_type": "stream",
          "name": "stdout",
          "text": [
            "Training on cuda\n",
            "Flower 1.12.0 / PyTorch 2.5.0+cu121\n"
          ]
        }
      ],
      "source": [
        "from collections import OrderedDict\n",
        "from typing import Dict, List, Optional, Tuple\n",
        "\n",
        "import numpy as np\n",
        "import torch\n",
        "import torch.nn as nn\n",
        "import torch.nn.functional as F\n",
        "import torchvision.transforms as transforms\n",
        "from torch.utils.data import DataLoader\n",
        "\n",
        "import flwr\n",
        "from flwr.client import Client, ClientApp, NumPyClient\n",
        "from flwr.server import ServerApp, ServerConfig, ServerAppComponents\n",
        "from flwr.server.strategy import FedAvg, FedAdagrad\n",
        "from flwr.simulation import run_simulation\n",
        "from flwr_datasets import FederatedDataset\n",
        "from flwr.common import ndarrays_to_parameters, NDArrays, Scalar, Context\n",
        "\n",
        "DEVICE = torch.device(\"cuda\")  # Try \"cuda\" to train on GPU\n",
        "print(f\"Training on {DEVICE}\")\n",
        "print(f\"Flower {flwr.__version__} / PyTorch {torch.__version__}\")"
      ]
    },
    {
      "cell_type": "markdown",
      "metadata": {
        "id": "BKxXtHci26pl"
      },
      "source": [
        "It is possible to switch to a runtime that has GPU acceleration enabled (on Google Colab: `Runtime > Change runtime type > Hardware acclerator: GPU > Save`). Note, however, that Google Colab is not always able to offer GPU acceleration. If you see an error related to GPU availability in one of the following sections, consider switching back to CPU-based execution by setting `DEVICE = torch.device(\"cpu\")`. If the runtime has GPU acceleration enabled, you should see the output `Training on cuda`, otherwise it'll say `Training on cpu`."
      ]
    },
    {
      "cell_type": "markdown",
      "metadata": {
        "id": "MXM4HAb826pl"
      },
      "source": [
        "### Data loading\n",
        "\n",
        "Let's now load the CIFAR-10 training and test set, partition them into ten smaller datasets (each split into training and validation set), and wrap everything in their own `DataLoader`. We introduce a new parameter `num_partitions` which allows us to call `load_datasets` with different numbers of partitions."
      ]
    },
    {
      "cell_type": "code",
      "execution_count": 3,
      "metadata": {
        "id": "RoS_Z6OO26pl"
      },
      "outputs": [],
      "source": [
        "NUM_PARTITIONS = 10\n",
        "BATCH_SIZE = 32\n",
        "\n",
        "\n",
        "def load_datasets(partition_id: int, num_partitions: int):\n",
        "    fds = FederatedDataset(dataset=\"cifar10\", partitioners={\"train\": num_partitions})\n",
        "    partition = fds.load_partition(partition_id)\n",
        "    # Divide data on each node: 80% train, 20% test\n",
        "    partition_train_test = partition.train_test_split(test_size=0.2, seed=42)\n",
        "    pytorch_transforms = transforms.Compose(\n",
        "        [transforms.ToTensor(), transforms.Normalize((0.5, 0.5, 0.5), (0.5, 0.5, 0.5))]\n",
        "    )\n",
        "\n",
        "    def apply_transforms(batch):\n",
        "        # Instead of passing transforms to CIFAR10(..., transform=transform)\n",
        "        # we will use this function to dataset.with_transform(apply_transforms)\n",
        "        # The transforms object is exactly the same\n",
        "        batch[\"img\"] = [pytorch_transforms(img) for img in batch[\"img\"]]\n",
        "        return batch\n",
        "\n",
        "    partition_train_test = partition_train_test.with_transform(apply_transforms)\n",
        "    trainloader = DataLoader(\n",
        "        partition_train_test[\"train\"], batch_size=BATCH_SIZE, shuffle=True\n",
        "    )\n",
        "    valloader = DataLoader(partition_train_test[\"test\"], batch_size=BATCH_SIZE)\n",
        "    testset = fds.load_split(\"test\").with_transform(apply_transforms)\n",
        "    testloader = DataLoader(testset, batch_size=BATCH_SIZE)\n",
        "    return trainloader, valloader, testloader"
      ]
    },
    {
      "cell_type": "markdown",
      "metadata": {
        "id": "gnoWQjb726pl"
      },
      "source": [
        "### Model training/evaluation\n",
        "\n",
        "Let's continue with the usual model definition (including `set_parameters` and `get_parameters`), training and test functions:"
      ]
    },
    {
      "cell_type": "code",
      "execution_count": 4,
      "metadata": {
        "id": "0vRdlqJs26pm"
      },
      "outputs": [],
      "source": [
        "class Net(nn.Module):\n",
        "    def __init__(self) -> None:\n",
        "        super(Net, self).__init__()\n",
        "        self.conv1 = nn.Conv2d(3, 6, 5)\n",
        "        self.pool = nn.MaxPool2d(2, 2)\n",
        "        self.conv2 = nn.Conv2d(6, 16, 5)\n",
        "        self.fc1 = nn.Linear(16 * 5 * 5, 120)\n",
        "        self.fc2 = nn.Linear(120, 84)\n",
        "        self.fc3 = nn.Linear(84, 10)\n",
        "\n",
        "    def forward(self, x: torch.Tensor) -> torch.Tensor:\n",
        "        x = self.pool(F.relu(self.conv1(x)))\n",
        "        x = self.pool(F.relu(self.conv2(x)))\n",
        "        x = x.view(-1, 16 * 5 * 5)\n",
        "        x = F.relu(self.fc1(x))\n",
        "        x = F.relu(self.fc2(x))\n",
        "        x = self.fc3(x)\n",
        "        return x\n",
        "\n",
        "\n",
        "def get_parameters(net) -> List[np.ndarray]:\n",
        "    return [val.cpu().numpy() for _, val in net.state_dict().items()]\n",
        "\n",
        "\n",
        "def set_parameters(net, parameters: List[np.ndarray]):\n",
        "    params_dict = zip(net.state_dict().keys(), parameters)\n",
        "    state_dict = OrderedDict({k: torch.Tensor(v) for k, v in params_dict})\n",
        "    net.load_state_dict(state_dict, strict=True)\n",
        "\n",
        "\n",
        "def train(net, trainloader, epochs: int):\n",
        "    \"\"\"Train the network on the training set.\"\"\"\n",
        "    criterion = torch.nn.CrossEntropyLoss()\n",
        "    optimizer = torch.optim.Adam(net.parameters())\n",
        "    net.train()\n",
        "    for epoch in range(epochs):\n",
        "        correct, total, epoch_loss = 0, 0, 0.0\n",
        "        for batch in trainloader:\n",
        "            images, labels = batch[\"img\"], batch[\"label\"]\n",
        "            images, labels = images.to(DEVICE), labels.to(DEVICE)\n",
        "            optimizer.zero_grad()\n",
        "            outputs = net(images)\n",
        "            loss = criterion(net(images), labels)\n",
        "            loss.backward()\n",
        "            optimizer.step()\n",
        "            # Metrics\n",
        "            epoch_loss += loss\n",
        "            total += labels.size(0)\n",
        "            correct += (torch.max(outputs.data, 1)[1] == labels).sum().item()\n",
        "        epoch_loss /= len(trainloader.dataset)\n",
        "        epoch_acc = correct / total\n",
        "        print(f\"Epoch {epoch+1}: train loss {epoch_loss}, accuracy {epoch_acc}\")\n",
        "\n",
        "\n",
        "def test(net, testloader):\n",
        "    \"\"\"Evaluate the network on the entire test set.\"\"\"\n",
        "    criterion = torch.nn.CrossEntropyLoss()\n",
        "    correct, total, loss = 0, 0, 0.0\n",
        "    net.eval()\n",
        "    with torch.no_grad():\n",
        "        for batch in testloader:\n",
        "            images, labels = batch[\"img\"], batch[\"label\"]\n",
        "            images, labels = images.to(DEVICE), labels.to(DEVICE)\n",
        "            outputs = net(images)\n",
        "            loss += criterion(outputs, labels).item()\n",
        "            _, predicted = torch.max(outputs.data, 1)\n",
        "            total += labels.size(0)\n",
        "            correct += (predicted == labels).sum().item()\n",
        "    loss /= len(testloader.dataset)\n",
        "    accuracy = correct / total\n",
        "    return loss, accuracy"
      ]
    },
    {
      "cell_type": "markdown",
      "metadata": {
        "id": "7Jp8-w4O26pm"
      },
      "source": [
        "### Flower client\n",
        "\n",
        "To implement the Flower client, we (again) create a subclass of `flwr.client.NumPyClient` and implement the three methods `get_parameters`, `fit`, and `evaluate`. Here, we also pass the `partition_id` to the client and use it log additional details. We then create an instance of `ClientApp` and pass it the `client_fn`."
      ]
    },
    {
      "cell_type": "code",
      "execution_count": 5,
      "metadata": {
        "id": "IYYWXRS726pm"
      },
      "outputs": [],
      "source": [
        "class FlowerClient(NumPyClient):\n",
        "    def __init__(self, partition_id, net, trainloader, valloader):\n",
        "        self.partition_id = partition_id\n",
        "        self.net = net\n",
        "        self.trainloader = trainloader\n",
        "        self.valloader = valloader\n",
        "\n",
        "    def get_parameters(self, config):\n",
        "        print(f\"[Client {self.partition_id}] get_parameters\")\n",
        "        return get_parameters(self.net)\n",
        "\n",
        "    def fit(self, parameters, config):\n",
        "        print(f\"[Client {self.partition_id}] fit, config: {config}\")\n",
        "        set_parameters(self.net, parameters)\n",
        "        train(self.net, self.trainloader, epochs=1)\n",
        "        return get_parameters(self.net), len(self.trainloader), {}\n",
        "\n",
        "    def evaluate(self, parameters, config):\n",
        "        print(f\"[Client {self.partition_id}] evaluate, config: {config}\")\n",
        "        set_parameters(self.net, parameters)\n",
        "        loss, accuracy = test(self.net, self.valloader)\n",
        "        return float(loss), len(self.valloader), {\"accuracy\": float(accuracy)}\n",
        "\n",
        "\n",
        "def client_fn(context: Context) -> Client:\n",
        "    net = Net().to(DEVICE)\n",
        "\n",
        "    # Read the node_config to fetch data partition associated to this node\n",
        "    partition_id = context.node_config[\"partition-id\"]\n",
        "    num_partitions = context.node_config[\"num-partitions\"]\n",
        "\n",
        "    trainloader, valloader, _ = load_datasets(partition_id, num_partitions)\n",
        "    return FlowerClient(partition_id, net, trainloader, valloader).to_client()\n",
        "\n",
        "\n",
        "# Create the ClientApp\n",
        "client = ClientApp(client_fn=client_fn)"
      ]
    },
    {
      "cell_type": "markdown",
      "metadata": {
        "id": "JVja1key26pm"
      },
      "source": [
        "## Strategy customization\n",
        "\n",
        "So far, everything should look familiar if you've worked through the introductory notebook. With that, we're ready to introduce a number of new features."
      ]
    },
    {
      "cell_type": "markdown",
      "metadata": {
        "id": "fPP3yab026pm"
      },
      "source": [
        "### Server-side parameter **initialization**\n",
        "\n",
        "Flower, by default, initializes the global model by asking one random client for the initial parameters. In many cases, we want more control over parameter initialization though. Flower therefore allows you to directly pass the initial parameters to the Strategy. We create an instance of `Net()` and get the paramaters as follows:"
      ]
    },
    {
      "cell_type": "code",
      "execution_count": 6,
      "metadata": {
        "id": "FSlsGfUz26pm"
      },
      "outputs": [],
      "source": [
        "# Create an instance of the model and get the parameters\n",
        "params = get_parameters(Net())"
      ]
    },
    {
      "cell_type": "markdown",
      "metadata": {
        "id": "oQdWgTbA26pm"
      },
      "source": [
        "Next, we create a `server_fn` that returns the components needed for the server. Within `server_fn`, we create a Strategy that uses the initial parameters."
      ]
    },
    {
      "cell_type": "code",
      "execution_count": 7,
      "metadata": {
        "id": "stAa-hVG26pm"
      },
      "outputs": [],
      "source": [
        "def server_fn(context: Context) -> ServerAppComponents:\n",
        "    # Create FedAvg strategy\n",
        "    strategy = FedAvg(\n",
        "        fraction_fit=0.3,\n",
        "        fraction_evaluate=0.3,\n",
        "        min_fit_clients=3,\n",
        "        min_evaluate_clients=3,\n",
        "        min_available_clients=NUM_PARTITIONS,\n",
        "        initial_parameters=ndarrays_to_parameters(\n",
        "            params\n",
        "        ),  # Pass initial model parameters\n",
        "    )\n",
        "\n",
        "    # Configure the server for 3 rounds of training\n",
        "    config = ServerConfig(num_rounds=3)\n",
        "    return ServerAppComponents(strategy=strategy, config=config)"
      ]
    },
    {
      "cell_type": "markdown",
      "metadata": {
        "id": "IFJ_c1aA26pm"
      },
      "source": [
        "Passing `initial_parameters` to the `FedAvg` strategy prevents Flower from asking one of the clients for the initial parameters. In `server_fn`, we pass this new `strategy` and a `ServerConfig` for defining the number of federated learning rounds (`num_rounds`).\n",
        "\n",
        "Similar to the `ClientApp`, we now create the `ServerApp` using the `server_fn`:"
      ]
    },
    {
      "cell_type": "code",
      "execution_count": 8,
      "metadata": {
        "id": "9WSA1umB26pm"
      },
      "outputs": [],
      "source": [
        "# Create ServerApp\n",
        "server = ServerApp(server_fn=server_fn)"
      ]
    },
    {
      "cell_type": "markdown",
      "metadata": {
        "id": "ZCgXjxHU26pm"
      },
      "source": [
        "Last but not least, we specify the resources for each client and run the simulation."
      ]
    },
    {
      "cell_type": "code",
      "source": [
        "print(DEVICE.type)"
      ],
      "metadata": {
        "id": "VvlE0G_V3b7P",
        "outputId": "16e675f3-0e2f-45b3-9293-8aef703c3ff5",
        "colab": {
          "base_uri": "https://localhost:8080/"
        }
      },
      "execution_count": 9,
      "outputs": [
        {
          "output_type": "stream",
          "name": "stdout",
          "text": [
            "cuda\n"
          ]
        }
      ]
    },
    {
      "cell_type": "code",
      "execution_count": 10,
      "metadata": {
        "id": "9NkrlRh926pm",
        "outputId": "b62ea870-47af-49a1-8389-2d14279b4405",
        "colab": {
          "base_uri": "https://localhost:8080/"
        }
      },
      "outputs": [
        {
          "output_type": "stream",
          "name": "stderr",
          "text": [
            "DEBUG:flwr:Asyncio event loop already running.\n",
            "\u001b[92mINFO \u001b[0m:      Starting Flower ServerApp, config: num_rounds=3, no round_timeout\n",
            "\u001b[92mINFO \u001b[0m:      \n",
            "\u001b[92mINFO \u001b[0m:      [INIT]\n",
            "\u001b[92mINFO \u001b[0m:      Using initial global parameters provided by strategy\n",
            "\u001b[92mINFO \u001b[0m:      Starting evaluation of initial global parameters\n",
            "\u001b[92mINFO \u001b[0m:      Evaluation returned no results (`None`)\n",
            "\u001b[92mINFO \u001b[0m:      \n",
            "\u001b[92mINFO \u001b[0m:      [ROUND 1]\n",
            "\u001b[92mINFO \u001b[0m:      configure_fit: strategy sampled 3 clients (out of 10)\n",
            "\u001b[36m(pid=10395)\u001b[0m 2024-11-07 20:38:12.731167: E external/local_xla/xla/stream_executor/cuda/cuda_fft.cc:485] Unable to register cuFFT factory: Attempting to register factory for plugin cuFFT when one has already been registered\n",
            "\u001b[36m(pid=10395)\u001b[0m 2024-11-07 20:38:12.752381: E external/local_xla/xla/stream_executor/cuda/cuda_dnn.cc:8454] Unable to register cuDNN factory: Attempting to register factory for plugin cuDNN when one has already been registered\n",
            "\u001b[36m(pid=10395)\u001b[0m 2024-11-07 20:38:12.758847: E external/local_xla/xla/stream_executor/cuda/cuda_blas.cc:1452] Unable to register cuBLAS factory: Attempting to register factory for plugin cuBLAS when one has already been registered\n",
            "\u001b[36m(pid=10395)\u001b[0m 2024-11-07 20:38:13.899258: W tensorflow/compiler/tf2tensorrt/utils/py_utils.cc:38] TF-TRT Warning: Could not find TensorRT\n",
            "\u001b[36m(ClientAppActor pid=10395)\u001b[0m /usr/local/lib/python3.10/dist-packages/jupyter_client/connect.py:28: DeprecationWarning: Jupyter is migrating its paths to use standard platformdirs\n",
            "\u001b[36m(ClientAppActor pid=10395)\u001b[0m given by the platformdirs library.  To remove this warning and\n",
            "\u001b[36m(ClientAppActor pid=10395)\u001b[0m see the appropriate new directories, set the environment variable\n",
            "\u001b[36m(ClientAppActor pid=10395)\u001b[0m `JUPYTER_PLATFORM_DIRS=1` and then run `jupyter --paths`.\n",
            "\u001b[36m(ClientAppActor pid=10395)\u001b[0m The use of platformdirs will be the default in `jupyter_core` v6\n",
            "\u001b[36m(ClientAppActor pid=10395)\u001b[0m   from jupyter_core.paths import jupyter_data_dir, jupyter_runtime_dir, secure_write\n",
            "Generating train split:   0%|          | 0/50000 [00:00<?, ? examples/s]\n",
            "Generating train split:  28%|██▊       | 13900/50000 [00:00<00:00, 137665.59 examples/s]\n",
            "Generating train split:  58%|█████▊    | 28900/50000 [00:00<00:00, 144340.91 examples/s]\n",
            "Generating train split: 100%|██████████| 50000/50000 [00:00<00:00, 144404.01 examples/s]\n",
            "Generating test split:   0%|          | 0/10000 [00:00<?, ? examples/s]\n"
          ]
        },
        {
          "output_type": "stream",
          "name": "stdout",
          "text": [
            "\u001b[36m(ClientAppActor pid=10395)\u001b[0m [Client 1] fit, config: {}\n"
          ]
        },
        {
          "output_type": "stream",
          "name": "stderr",
          "text": [
            "\u001b[36m(ClientAppActor pid=10395)\u001b[0m \rGenerating test split: 100%|██████████| 10000/10000 [00:00<00:00, 143542.72 examples/s]\n"
          ]
        },
        {
          "output_type": "stream",
          "name": "stdout",
          "text": [
            "\u001b[36m(ClientAppActor pid=10395)\u001b[0m Epoch 1: train loss 0.06481033563613892, accuracy 0.22925\n",
            "\u001b[36m(ClientAppActor pid=10395)\u001b[0m [Client 5] fit, config: {}\n",
            "\u001b[36m(ClientAppActor pid=10395)\u001b[0m Epoch 1: train loss 0.0648251473903656, accuracy 0.228\n",
            "\u001b[36m(ClientAppActor pid=10395)\u001b[0m [Client 9] fit, config: {}\n"
          ]
        },
        {
          "output_type": "stream",
          "name": "stderr",
          "text": [
            "\u001b[92mINFO \u001b[0m:      aggregate_fit: received 3 results and 0 failures\n",
            "\u001b[93mWARNING \u001b[0m:   No fit_metrics_aggregation_fn provided\n",
            "\u001b[92mINFO \u001b[0m:      configure_evaluate: strategy sampled 3 clients (out of 10)\n"
          ]
        },
        {
          "output_type": "stream",
          "name": "stdout",
          "text": [
            "\u001b[36m(ClientAppActor pid=10395)\u001b[0m Epoch 1: train loss 0.06484603136777878, accuracy 0.2425\n",
            "\u001b[36m(ClientAppActor pid=10395)\u001b[0m [Client 2] evaluate, config: {}\n",
            "\u001b[36m(ClientAppActor pid=10395)\u001b[0m [Client 3] evaluate, config: {}\n",
            "\u001b[36m(ClientAppActor pid=10395)\u001b[0m [Client 7] evaluate, config: {}\n"
          ]
        },
        {
          "output_type": "stream",
          "name": "stderr",
          "text": [
            "\u001b[92mINFO \u001b[0m:      aggregate_evaluate: received 3 results and 0 failures\n",
            "\u001b[93mWARNING \u001b[0m:   No evaluate_metrics_aggregation_fn provided\n",
            "\u001b[92mINFO \u001b[0m:      \n",
            "\u001b[92mINFO \u001b[0m:      [ROUND 2]\n",
            "\u001b[92mINFO \u001b[0m:      configure_fit: strategy sampled 3 clients (out of 10)\n"
          ]
        },
        {
          "output_type": "stream",
          "name": "stdout",
          "text": [
            "\u001b[36m(ClientAppActor pid=10395)\u001b[0m [Client 0] fit, config: {}\n",
            "\u001b[36m(ClientAppActor pid=10395)\u001b[0m Epoch 1: train loss 0.05810416862368584, accuracy 0.306\n",
            "\u001b[36m(ClientAppActor pid=10395)\u001b[0m [Client 4] fit, config: {}\n",
            "\u001b[36m(ClientAppActor pid=10395)\u001b[0m Epoch 1: train loss 0.05843856558203697, accuracy 0.30675\n",
            "\u001b[36m(ClientAppActor pid=10395)\u001b[0m [Client 8] fit, config: {}\n"
          ]
        },
        {
          "output_type": "stream",
          "name": "stderr",
          "text": [
            "\u001b[92mINFO \u001b[0m:      aggregate_fit: received 3 results and 0 failures\n",
            "\u001b[92mINFO \u001b[0m:      configure_evaluate: strategy sampled 3 clients (out of 10)\n"
          ]
        },
        {
          "output_type": "stream",
          "name": "stdout",
          "text": [
            "\u001b[36m(ClientAppActor pid=10395)\u001b[0m Epoch 1: train loss 0.05817325785756111, accuracy 0.31125\n",
            "\u001b[36m(ClientAppActor pid=10395)\u001b[0m [Client 0] evaluate, config: {}\n",
            "\u001b[36m(ClientAppActor pid=10395)\u001b[0m [Client 1] evaluate, config: {}\n",
            "\u001b[36m(ClientAppActor pid=10395)\u001b[0m [Client 7] evaluate, config: {}\n"
          ]
        },
        {
          "output_type": "stream",
          "name": "stderr",
          "text": [
            "\u001b[92mINFO \u001b[0m:      aggregate_evaluate: received 3 results and 0 failures\n",
            "\u001b[92mINFO \u001b[0m:      \n",
            "\u001b[92mINFO \u001b[0m:      [ROUND 3]\n",
            "\u001b[92mINFO \u001b[0m:      configure_fit: strategy sampled 3 clients (out of 10)\n"
          ]
        },
        {
          "output_type": "stream",
          "name": "stdout",
          "text": [
            "\u001b[36m(ClientAppActor pid=10395)\u001b[0m [Client 1] fit, config: {}\n",
            "\u001b[36m(ClientAppActor pid=10395)\u001b[0m Epoch 1: train loss 0.05484801530838013, accuracy 0.3485\n",
            "\u001b[36m(ClientAppActor pid=10395)\u001b[0m [Client 2] fit, config: {}\n",
            "\u001b[36m(ClientAppActor pid=10395)\u001b[0m Epoch 1: train loss 0.054214175790548325, accuracy 0.353\n",
            "\u001b[36m(ClientAppActor pid=10395)\u001b[0m [Client 8] fit, config: {}\n"
          ]
        },
        {
          "output_type": "stream",
          "name": "stderr",
          "text": [
            "\u001b[92mINFO \u001b[0m:      aggregate_fit: received 3 results and 0 failures\n",
            "\u001b[92mINFO \u001b[0m:      configure_evaluate: strategy sampled 3 clients (out of 10)\n"
          ]
        },
        {
          "output_type": "stream",
          "name": "stdout",
          "text": [
            "\u001b[36m(ClientAppActor pid=10395)\u001b[0m Epoch 1: train loss 0.05407344177365303, accuracy 0.36475\n",
            "\u001b[36m(ClientAppActor pid=10395)\u001b[0m [Client 1] evaluate, config: {}\n",
            "\u001b[36m(ClientAppActor pid=10395)\u001b[0m [Client 2] evaluate, config: {}\n",
            "\u001b[36m(ClientAppActor pid=10395)\u001b[0m [Client 7] evaluate, config: {}\n"
          ]
        },
        {
          "output_type": "stream",
          "name": "stderr",
          "text": [
            "\u001b[92mINFO \u001b[0m:      aggregate_evaluate: received 3 results and 0 failures\n",
            "\u001b[92mINFO \u001b[0m:      \n",
            "\u001b[92mINFO \u001b[0m:      [SUMMARY]\n",
            "\u001b[92mINFO \u001b[0m:      Run finished 3 round(s) in 129.81s\n",
            "\u001b[92mINFO \u001b[0m:      \tHistory (loss, distributed):\n",
            "\u001b[92mINFO \u001b[0m:      \t\tround 1: 0.06240976031621296\n",
            "\u001b[92mINFO \u001b[0m:      \t\tround 2: 0.055554303924242654\n",
            "\u001b[92mINFO \u001b[0m:      \t\tround 3: 0.052166177709897364\n",
            "\u001b[92mINFO \u001b[0m:      \n"
          ]
        }
      ],
      "source": [
        "# Specify the resources each of your clients need\n",
        "# If set to none, by default, each client will be allocated 2x CPU and 0x GPUs\n",
        "backend_config = {\"client_resources\": None}\n",
        "if DEVICE.type == \"cuda\":\n",
        "    backend_config = {\"client_resources\": {\"num_cpus\": 1, \"num_gpus\": 1}}\n",
        "\n",
        "# Run simulation\n",
        "run_simulation(\n",
        "    server_app=server,\n",
        "    client_app=client,\n",
        "    num_supernodes=NUM_PARTITIONS,\n",
        "    backend_config=backend_config,\n",
        ")"
      ]
    },
    {
      "cell_type": "markdown",
      "metadata": {
        "id": "0y8AOSHw26pm"
      },
      "source": [
        " If we look closely, we can see that the logs do not show any calls to the `FlowerClient.get_parameters` method."
      ]
    },
    {
      "cell_type": "markdown",
      "metadata": {
        "id": "d_b94cNz26pm"
      },
      "source": [
        "### Starting with a customized strategy\n",
        "\n",
        "We've seen the function `run_simulation` before. It accepts a number of arguments, amongst them the `server_app` which wraps around the strategy and number of training rounds, `client_app` which wraps around the `client_fn` used to create `FlowerClient` instances, and the number of clients to simulate which equals `num_supernodes`.\n",
        "\n",
        "The strategy encapsulates the federated learning approach/algorithm, for example, `FedAvg` or `FedAdagrad`. Let's try to use a different strategy this time:"
      ]
    },
    {
      "cell_type": "code",
      "execution_count": 11,
      "metadata": {
        "id": "bH9IUgxV26pn",
        "outputId": "a23ac9e2-a411-42e6-e949-962849278c61",
        "colab": {
          "base_uri": "https://localhost:8080/"
        }
      },
      "outputs": [
        {
          "output_type": "stream",
          "name": "stderr",
          "text": [
            "\u001b[92mINFO \u001b[0m:      Starting Flower ServerApp, config: num_rounds=3, no round_timeout\n",
            "\u001b[92mINFO \u001b[0m:      \n",
            "\u001b[92mINFO \u001b[0m:      [INIT]\n",
            "\u001b[92mINFO \u001b[0m:      Using initial global parameters provided by strategy\n",
            "\u001b[92mINFO \u001b[0m:      Starting evaluation of initial global parameters\n",
            "\u001b[92mINFO \u001b[0m:      Evaluation returned no results (`None`)\n",
            "\u001b[92mINFO \u001b[0m:      \n",
            "\u001b[92mINFO \u001b[0m:      [ROUND 1]\n",
            "\u001b[92mINFO \u001b[0m:      configure_fit: strategy sampled 3 clients (out of 10)\n",
            "\u001b[36m(pid=11924)\u001b[0m 2024-11-07 20:40:36.061528: E external/local_xla/xla/stream_executor/cuda/cuda_fft.cc:485] Unable to register cuFFT factory: Attempting to register factory for plugin cuFFT when one has already been registered\n",
            "\u001b[36m(pid=11924)\u001b[0m 2024-11-07 20:40:36.082933: E external/local_xla/xla/stream_executor/cuda/cuda_dnn.cc:8454] Unable to register cuDNN factory: Attempting to register factory for plugin cuDNN when one has already been registered\n",
            "\u001b[36m(pid=11924)\u001b[0m 2024-11-07 20:40:36.089648: E external/local_xla/xla/stream_executor/cuda/cuda_blas.cc:1452] Unable to register cuBLAS factory: Attempting to register factory for plugin cuBLAS when one has already been registered\n",
            "\u001b[36m(pid=11924)\u001b[0m 2024-11-07 20:40:37.247703: W tensorflow/compiler/tf2tensorrt/utils/py_utils.cc:38] TF-TRT Warning: Could not find TensorRT\n",
            "\u001b[36m(ClientAppActor pid=11924)\u001b[0m /usr/local/lib/python3.10/dist-packages/jupyter_client/connect.py:28: DeprecationWarning: Jupyter is migrating its paths to use standard platformdirs\n",
            "\u001b[36m(ClientAppActor pid=11924)\u001b[0m given by the platformdirs library.  To remove this warning and\n",
            "\u001b[36m(ClientAppActor pid=11924)\u001b[0m see the appropriate new directories, set the environment variable\n",
            "\u001b[36m(ClientAppActor pid=11924)\u001b[0m `JUPYTER_PLATFORM_DIRS=1` and then run `jupyter --paths`.\n",
            "\u001b[36m(ClientAppActor pid=11924)\u001b[0m The use of platformdirs will be the default in `jupyter_core` v6\n",
            "\u001b[36m(ClientAppActor pid=11924)\u001b[0m   from jupyter_core.paths import jupyter_data_dir, jupyter_runtime_dir, secure_write\n"
          ]
        },
        {
          "output_type": "stream",
          "name": "stdout",
          "text": [
            "\u001b[36m(ClientAppActor pid=11924)\u001b[0m [Client 1] fit, config: {}\n",
            "\u001b[36m(ClientAppActor pid=11924)\u001b[0m Epoch 1: train loss 0.0647609755396843, accuracy 0.22875\n",
            "\u001b[36m(ClientAppActor pid=11924)\u001b[0m [Client 5] fit, config: {}\n",
            "\u001b[36m(ClientAppActor pid=11924)\u001b[0m Epoch 1: train loss 0.06570862233638763, accuracy 0.19925\n",
            "\u001b[36m(ClientAppActor pid=11924)\u001b[0m [Client 7] fit, config: {}\n"
          ]
        },
        {
          "output_type": "stream",
          "name": "stderr",
          "text": [
            "\u001b[92mINFO \u001b[0m:      aggregate_fit: received 3 results and 0 failures\n",
            "\u001b[93mWARNING \u001b[0m:   No fit_metrics_aggregation_fn provided\n",
            "\u001b[92mINFO \u001b[0m:      configure_evaluate: strategy sampled 3 clients (out of 10)\n"
          ]
        },
        {
          "output_type": "stream",
          "name": "stdout",
          "text": [
            "\u001b[36m(ClientAppActor pid=11924)\u001b[0m Epoch 1: train loss 0.06487058848142624, accuracy 0.238\n",
            "\u001b[36m(ClientAppActor pid=11924)\u001b[0m [Client 1] evaluate, config: {}\n",
            "\u001b[36m(ClientAppActor pid=11924)\u001b[0m [Client 2] evaluate, config: {}\n",
            "\u001b[36m(ClientAppActor pid=11924)\u001b[0m [Client 9] evaluate, config: {}\n"
          ]
        },
        {
          "output_type": "stream",
          "name": "stderr",
          "text": [
            "\u001b[92mINFO \u001b[0m:      aggregate_evaluate: received 3 results and 0 failures\n",
            "\u001b[93mWARNING \u001b[0m:   No evaluate_metrics_aggregation_fn provided\n",
            "\u001b[92mINFO \u001b[0m:      \n",
            "\u001b[92mINFO \u001b[0m:      [ROUND 2]\n",
            "\u001b[92mINFO \u001b[0m:      configure_fit: strategy sampled 3 clients (out of 10)\n"
          ]
        },
        {
          "output_type": "stream",
          "name": "stdout",
          "text": [
            "\u001b[36m(ClientAppActor pid=11924)\u001b[0m [Client 3] fit, config: {}\n",
            "\u001b[36m(ClientAppActor pid=11924)\u001b[0m Epoch 1: train loss 0.8273022770881653, accuracy 0.2615\n",
            "\u001b[36m(ClientAppActor pid=11924)\u001b[0m [Client 7] fit, config: {}\n",
            "\u001b[36m(ClientAppActor pid=11924)\u001b[0m Epoch 1: train loss 0.8580909371376038, accuracy 0.25625\n",
            "\u001b[36m(ClientAppActor pid=11924)\u001b[0m [Client 5] fit, config: {}\n"
          ]
        },
        {
          "output_type": "stream",
          "name": "stderr",
          "text": [
            "\u001b[92mINFO \u001b[0m:      aggregate_fit: received 3 results and 0 failures\n",
            "\u001b[92mINFO \u001b[0m:      configure_evaluate: strategy sampled 3 clients (out of 10)\n"
          ]
        },
        {
          "output_type": "stream",
          "name": "stdout",
          "text": [
            "\u001b[36m(ClientAppActor pid=11924)\u001b[0m Epoch 1: train loss 0.7970990538597107, accuracy 0.25375\n",
            "\u001b[36m(ClientAppActor pid=11924)\u001b[0m [Client 1] evaluate, config: {}\n",
            "\u001b[36m(ClientAppActor pid=11924)\u001b[0m [Client 2] evaluate, config: {}\n",
            "\u001b[36m(ClientAppActor pid=11924)\u001b[0m [Client 8] evaluate, config: {}\n"
          ]
        },
        {
          "output_type": "stream",
          "name": "stderr",
          "text": [
            "\u001b[92mINFO \u001b[0m:      aggregate_evaluate: received 3 results and 0 failures\n",
            "\u001b[92mINFO \u001b[0m:      \n",
            "\u001b[92mINFO \u001b[0m:      [ROUND 3]\n",
            "\u001b[92mINFO \u001b[0m:      configure_fit: strategy sampled 3 clients (out of 10)\n"
          ]
        },
        {
          "output_type": "stream",
          "name": "stdout",
          "text": [
            "\u001b[36m(ClientAppActor pid=11924)\u001b[0m [Client 2] fit, config: {}\n",
            "\u001b[36m(ClientAppActor pid=11924)\u001b[0m Epoch 1: train loss 0.08726383745670319, accuracy 0.1805\n",
            "\u001b[36m(ClientAppActor pid=11924)\u001b[0m [Client 7] fit, config: {}\n",
            "\u001b[36m(ClientAppActor pid=11924)\u001b[0m Epoch 1: train loss 0.0879814475774765, accuracy 0.17825\n",
            "\u001b[36m(ClientAppActor pid=11924)\u001b[0m [Client 8] fit, config: {}\n"
          ]
        },
        {
          "output_type": "stream",
          "name": "stderr",
          "text": [
            "\u001b[92mINFO \u001b[0m:      aggregate_fit: received 3 results and 0 failures\n",
            "\u001b[92mINFO \u001b[0m:      configure_evaluate: strategy sampled 3 clients (out of 10)\n"
          ]
        },
        {
          "output_type": "stream",
          "name": "stdout",
          "text": [
            "\u001b[36m(ClientAppActor pid=11924)\u001b[0m Epoch 1: train loss 0.08682229369878769, accuracy 0.1925\n",
            "\u001b[36m(ClientAppActor pid=11924)\u001b[0m [Client 2] evaluate, config: {}\n",
            "\u001b[36m(ClientAppActor pid=11924)\u001b[0m [Client 4] evaluate, config: {}\n",
            "\u001b[36m(ClientAppActor pid=11924)\u001b[0m [Client 9] evaluate, config: {}\n"
          ]
        },
        {
          "output_type": "stream",
          "name": "stderr",
          "text": [
            "\u001b[92mINFO \u001b[0m:      aggregate_evaluate: received 3 results and 0 failures\n",
            "\u001b[92mINFO \u001b[0m:      \n",
            "\u001b[92mINFO \u001b[0m:      [SUMMARY]\n",
            "\u001b[92mINFO \u001b[0m:      Run finished 3 round(s) in 121.32s\n",
            "\u001b[92mINFO \u001b[0m:      \tHistory (loss, distributed):\n",
            "\u001b[92mINFO \u001b[0m:      \t\tround 1: 6.044158162434896\n",
            "\u001b[92mINFO \u001b[0m:      \t\tround 2: 0.46023250007629396\n",
            "\u001b[92mINFO \u001b[0m:      \t\tround 3: 0.18165706634521483\n",
            "\u001b[92mINFO \u001b[0m:      \n"
          ]
        }
      ],
      "source": [
        "def server_fn(context: Context) -> ServerAppComponents:\n",
        "    # Create FedAdagrad strategy\n",
        "    strategy = FedAdagrad(\n",
        "        fraction_fit=0.3,\n",
        "        fraction_evaluate=0.3,\n",
        "        min_fit_clients=3,\n",
        "        min_evaluate_clients=3,\n",
        "        min_available_clients=NUM_PARTITIONS,\n",
        "        initial_parameters=ndarrays_to_parameters(params),\n",
        "    )\n",
        "    # Configure the server for 3 rounds of training\n",
        "    config = ServerConfig(num_rounds=3)\n",
        "    return ServerAppComponents(strategy=strategy, config=config)\n",
        "\n",
        "\n",
        "# Create the ServerApp\n",
        "server = ServerApp(server_fn=server_fn)\n",
        "\n",
        "# Run simulation\n",
        "run_simulation(\n",
        "    server_app=server,\n",
        "    client_app=client,\n",
        "    num_supernodes=NUM_PARTITIONS,\n",
        "    backend_config=backend_config,\n",
        ")"
      ]
    },
    {
      "cell_type": "markdown",
      "metadata": {
        "id": "9Lm-kfuu26pn"
      },
      "source": [
        "## Server-side parameter **evaluation**\n",
        "\n",
        "Flower can evaluate the aggregated model on the server-side or on the client-side. Client-side and server-side evaluation are similar in some ways, but different in others.\n",
        "\n",
        "**Centralized Evaluation** (or *server-side evaluation*) is conceptually simple: it works the same way that evaluation in centralized machine learning does. If there is a server-side dataset that can be used for evaluation purposes, then that's great. We can evaluate the newly aggregated model after each round of training without having to send the model to clients. We're also fortunate in the sense that our entire evaluation dataset is available at all times.\n",
        "\n",
        "**Federated Evaluation** (or *client-side evaluation*) is more complex, but also more powerful: it doesn't require a centralized dataset and allows us to evaluate models over a larger set of data, which often yields more realistic evaluation results. In fact, many scenarios require us to use **Federated Evaluation** if we want to get representative evaluation results at all. But this power comes at a cost: once we start to evaluate on the client side, we should be aware that our evaluation dataset can change over consecutive rounds of learning if those clients are not always available. Moreover, the dataset held by each client can also change over consecutive rounds. This can lead to evaluation results that are not stable, so even if we would not change the model, we'd see our evaluation results fluctuate over consecutive rounds.\n",
        "\n",
        "We've seen how federated evaluation works on the client side (i.e., by implementing the `evaluate` method in `FlowerClient`). Now let's see how we can evaluate aggregated model parameters on the server-side:"
      ]
    },
    {
      "cell_type": "code",
      "execution_count": 12,
      "metadata": {
        "id": "syVSMTZP26pn"
      },
      "outputs": [],
      "source": [
        "# The `evaluate` function will be called by Flower after every round\n",
        "def evaluate(\n",
        "    server_round: int,\n",
        "    parameters: NDArrays,\n",
        "    config: Dict[str, Scalar],\n",
        ") -> Optional[Tuple[float, Dict[str, Scalar]]]:\n",
        "    net = Net().to(DEVICE)\n",
        "    _, _, testloader = load_datasets(0, NUM_PARTITIONS)\n",
        "    set_parameters(net, parameters)  # Update model with the latest parameters\n",
        "    loss, accuracy = test(net, testloader)\n",
        "    print(f\"Server-side evaluation loss {loss} / accuracy {accuracy}\")\n",
        "    return loss, {\"accuracy\": accuracy}"
      ]
    },
    {
      "cell_type": "markdown",
      "metadata": {
        "id": "nQdsIPF526pn"
      },
      "source": [
        "We create a `FedAvg` strategy and pass `evaluate_fn` to it. Then, we create a `ServerApp` that uses this strategy."
      ]
    },
    {
      "cell_type": "code",
      "execution_count": 13,
      "metadata": {
        "id": "3RdP32nR26pn"
      },
      "outputs": [],
      "source": [
        "def server_fn(context: Context) -> ServerAppComponents:\n",
        "    # Create the FedAvg strategy\n",
        "    strategy = FedAvg(\n",
        "        fraction_fit=0.3,\n",
        "        fraction_evaluate=0.3,\n",
        "        min_fit_clients=3,\n",
        "        min_evaluate_clients=3,\n",
        "        min_available_clients=NUM_PARTITIONS,\n",
        "        initial_parameters=ndarrays_to_parameters(params),\n",
        "        evaluate_fn=evaluate,  # Pass the evaluation function\n",
        "    )\n",
        "    # Configure the server for 3 rounds of training\n",
        "    config = ServerConfig(num_rounds=3)\n",
        "    return ServerAppComponents(strategy=strategy, config=config)\n",
        "\n",
        "\n",
        "# Create the ServerApp\n",
        "server = ServerApp(server_fn=server_fn)"
      ]
    },
    {
      "cell_type": "markdown",
      "metadata": {
        "id": "39H3ixH226pn"
      },
      "source": [
        "Finally, we run the simulation."
      ]
    },
    {
      "cell_type": "code",
      "execution_count": 14,
      "metadata": {
        "id": "MX_imzw326pn",
        "outputId": "0c1844f3-42f6-4fec-f14a-f31d2ecfdf5e",
        "colab": {
          "base_uri": "https://localhost:8080/"
        }
      },
      "outputs": [
        {
          "output_type": "stream",
          "name": "stderr",
          "text": [
            "\u001b[92mINFO \u001b[0m:      Starting Flower ServerApp, config: num_rounds=3, no round_timeout\n",
            "\u001b[92mINFO \u001b[0m:      \n",
            "\u001b[92mINFO \u001b[0m:      [INIT]\n",
            "\u001b[92mINFO \u001b[0m:      Using initial global parameters provided by strategy\n",
            "\u001b[92mINFO \u001b[0m:      Starting evaluation of initial global parameters\n",
            "/usr/local/lib/python3.10/dist-packages/huggingface_hub/utils/_token.py:89: UserWarning: \n",
            "The secret `HF_TOKEN` does not exist in your Colab secrets.\n",
            "To authenticate with the Hugging Face Hub, create a token in your settings tab (https://huggingface.co/settings/tokens), set it as secret in your Google Colab and restart your session.\n",
            "You will be able to reuse this secret in all of your notebooks.\n",
            "Please note that authentication is recommended but still optional to access public models or datasets.\n",
            "  warnings.warn(\n",
            "\u001b[36m(pid=17616)\u001b[0m 2024-11-07 21:00:08.716425: E external/local_xla/xla/stream_executor/cuda/cuda_fft.cc:485] Unable to register cuFFT factory: Attempting to register factory for plugin cuFFT when one has already been registered\n",
            "\u001b[36m(pid=17616)\u001b[0m 2024-11-07 21:00:08.738034: E external/local_xla/xla/stream_executor/cuda/cuda_dnn.cc:8454] Unable to register cuDNN factory: Attempting to register factory for plugin cuDNN when one has already been registered\n",
            "\u001b[36m(pid=17616)\u001b[0m 2024-11-07 21:00:08.744815: E external/local_xla/xla/stream_executor/cuda/cuda_blas.cc:1452] Unable to register cuBLAS factory: Attempting to register factory for plugin cuBLAS when one has already been registered\n",
            "\u001b[36m(pid=17616)\u001b[0m 2024-11-07 21:00:09.932133: W tensorflow/compiler/tf2tensorrt/utils/py_utils.cc:38] TF-TRT Warning: Could not find TensorRT\n",
            "\u001b[92mINFO \u001b[0m:      initial parameters (loss, other metrics): 0.07211922733783722, {'accuracy': 0.099}\n",
            "\u001b[92mINFO \u001b[0m:      \n",
            "\u001b[92mINFO \u001b[0m:      [ROUND 1]\n",
            "\u001b[92mINFO \u001b[0m:      configure_fit: strategy sampled 3 clients (out of 10)\n"
          ]
        },
        {
          "output_type": "stream",
          "name": "stdout",
          "text": [
            "Server-side evaluation loss 0.07211922733783722 / accuracy 0.099\n"
          ]
        },
        {
          "output_type": "stream",
          "name": "stderr",
          "text": [
            "\u001b[36m(ClientAppActor pid=17616)\u001b[0m /usr/local/lib/python3.10/dist-packages/jupyter_client/connect.py:28: DeprecationWarning: Jupyter is migrating its paths to use standard platformdirs\n",
            "\u001b[36m(ClientAppActor pid=17616)\u001b[0m given by the platformdirs library.  To remove this warning and\n",
            "\u001b[36m(ClientAppActor pid=17616)\u001b[0m see the appropriate new directories, set the environment variable\n",
            "\u001b[36m(ClientAppActor pid=17616)\u001b[0m `JUPYTER_PLATFORM_DIRS=1` and then run `jupyter --paths`.\n",
            "\u001b[36m(ClientAppActor pid=17616)\u001b[0m The use of platformdirs will be the default in `jupyter_core` v6\n",
            "\u001b[36m(ClientAppActor pid=17616)\u001b[0m   from jupyter_core.paths import jupyter_data_dir, jupyter_runtime_dir, secure_write\n"
          ]
        },
        {
          "output_type": "stream",
          "name": "stdout",
          "text": [
            "\u001b[36m(ClientAppActor pid=17616)\u001b[0m [Client 1] fit, config: {}\n",
            "\u001b[36m(ClientAppActor pid=17616)\u001b[0m Epoch 1: train loss 0.06496021896600723, accuracy 0.226\n",
            "\u001b[36m(ClientAppActor pid=17616)\u001b[0m [Client 4] fit, config: {}\n",
            "\u001b[36m(ClientAppActor pid=17616)\u001b[0m Epoch 1: train loss 0.06446563452482224, accuracy 0.23025\n",
            "\u001b[36m(ClientAppActor pid=17616)\u001b[0m [Client 8] fit, config: {}\n"
          ]
        },
        {
          "output_type": "stream",
          "name": "stderr",
          "text": [
            "\u001b[92mINFO \u001b[0m:      aggregate_fit: received 3 results and 0 failures\n",
            "\u001b[93mWARNING \u001b[0m:   No fit_metrics_aggregation_fn provided\n"
          ]
        },
        {
          "output_type": "stream",
          "name": "stdout",
          "text": [
            "\u001b[36m(ClientAppActor pid=17616)\u001b[0m Epoch 1: train loss 0.0647096261382103, accuracy 0.244\n"
          ]
        },
        {
          "output_type": "stream",
          "name": "stderr",
          "text": [
            "\u001b[92mINFO \u001b[0m:      fit progress: (1, 0.06072256523370743, {'accuracy': 0.2924}, 37.38274318799995)\n",
            "\u001b[92mINFO \u001b[0m:      configure_evaluate: strategy sampled 3 clients (out of 10)\n"
          ]
        },
        {
          "output_type": "stream",
          "name": "stdout",
          "text": [
            "Server-side evaluation loss 0.06072256523370743 / accuracy 0.2924\n",
            "\u001b[36m(ClientAppActor pid=17616)\u001b[0m [Client 5] evaluate, config: {}\n",
            "\u001b[36m(ClientAppActor pid=17616)\u001b[0m [Client 6] evaluate, config: {}\n",
            "\u001b[36m(ClientAppActor pid=17616)\u001b[0m [Client 9] evaluate, config: {}\n"
          ]
        },
        {
          "output_type": "stream",
          "name": "stderr",
          "text": [
            "\u001b[92mINFO \u001b[0m:      aggregate_evaluate: received 3 results and 0 failures\n",
            "\u001b[93mWARNING \u001b[0m:   No evaluate_metrics_aggregation_fn provided\n",
            "\u001b[92mINFO \u001b[0m:      \n",
            "\u001b[92mINFO \u001b[0m:      [ROUND 2]\n",
            "\u001b[92mINFO \u001b[0m:      configure_fit: strategy sampled 3 clients (out of 10)\n"
          ]
        },
        {
          "output_type": "stream",
          "name": "stdout",
          "text": [
            "\u001b[36m(ClientAppActor pid=17616)\u001b[0m [Client 2] fit, config: {}\n",
            "\u001b[36m(ClientAppActor pid=17616)\u001b[0m Epoch 1: train loss 0.05790960043668747, accuracy 0.3255\n",
            "\u001b[36m(ClientAppActor pid=17616)\u001b[0m [Client 5] fit, config: {}\n",
            "\u001b[36m(ClientAppActor pid=17616)\u001b[0m Epoch 1: train loss 0.05848584324121475, accuracy 0.29225\n",
            "\u001b[36m(ClientAppActor pid=17616)\u001b[0m [Client 7] fit, config: {}\n"
          ]
        },
        {
          "output_type": "stream",
          "name": "stderr",
          "text": [
            "\u001b[92mINFO \u001b[0m:      aggregate_fit: received 3 results and 0 failures\n"
          ]
        },
        {
          "output_type": "stream",
          "name": "stdout",
          "text": [
            "\u001b[36m(ClientAppActor pid=17616)\u001b[0m Epoch 1: train loss 0.0581500343978405, accuracy 0.323\n"
          ]
        },
        {
          "output_type": "stream",
          "name": "stderr",
          "text": [
            "\u001b[92mINFO \u001b[0m:      fit progress: (2, 0.05406454575061798, {'accuracy': 0.3657}, 79.27856678800026)\n",
            "\u001b[92mINFO \u001b[0m:      configure_evaluate: strategy sampled 3 clients (out of 10)\n"
          ]
        },
        {
          "output_type": "stream",
          "name": "stdout",
          "text": [
            "Server-side evaluation loss 0.05406454575061798 / accuracy 0.3657\n",
            "\u001b[36m(ClientAppActor pid=17616)\u001b[0m [Client 6] evaluate, config: {}\n",
            "\u001b[36m(ClientAppActor pid=17616)\u001b[0m [Client 8] evaluate, config: {}\n",
            "\u001b[36m(ClientAppActor pid=17616)\u001b[0m [Client 9] evaluate, config: {}\n"
          ]
        },
        {
          "output_type": "stream",
          "name": "stderr",
          "text": [
            "\u001b[92mINFO \u001b[0m:      aggregate_evaluate: received 3 results and 0 failures\n",
            "\u001b[92mINFO \u001b[0m:      \n",
            "\u001b[92mINFO \u001b[0m:      [ROUND 3]\n",
            "\u001b[92mINFO \u001b[0m:      configure_fit: strategy sampled 3 clients (out of 10)\n"
          ]
        },
        {
          "output_type": "stream",
          "name": "stdout",
          "text": [
            "\u001b[36m(ClientAppActor pid=17616)\u001b[0m [Client 0] fit, config: {}\n",
            "\u001b[36m(ClientAppActor pid=17616)\u001b[0m Epoch 1: train loss 0.05372172221541405, accuracy 0.35975\n",
            "\u001b[36m(ClientAppActor pid=17616)\u001b[0m [Client 2] fit, config: {}\n",
            "\u001b[36m(ClientAppActor pid=17616)\u001b[0m Epoch 1: train loss 0.05355307087302208, accuracy 0.36025\n",
            "\u001b[36m(ClientAppActor pid=17616)\u001b[0m [Client 8] fit, config: {}\n"
          ]
        },
        {
          "output_type": "stream",
          "name": "stderr",
          "text": [
            "\u001b[92mINFO \u001b[0m:      aggregate_fit: received 3 results and 0 failures\n"
          ]
        },
        {
          "output_type": "stream",
          "name": "stdout",
          "text": [
            "\u001b[36m(ClientAppActor pid=17616)\u001b[0m Epoch 1: train loss 0.05353621765971184, accuracy 0.36375\n"
          ]
        },
        {
          "output_type": "stream",
          "name": "stderr",
          "text": [
            "\u001b[92mINFO \u001b[0m:      fit progress: (3, 0.05086568427085877, {'accuracy': 0.404}, 121.96188523399996)\n",
            "\u001b[92mINFO \u001b[0m:      configure_evaluate: strategy sampled 3 clients (out of 10)\n"
          ]
        },
        {
          "output_type": "stream",
          "name": "stdout",
          "text": [
            "Server-side evaluation loss 0.05086568427085877 / accuracy 0.404\n",
            "\u001b[36m(ClientAppActor pid=17616)\u001b[0m [Client 0] evaluate, config: {}\n",
            "\u001b[36m(ClientAppActor pid=17616)\u001b[0m [Client 1] evaluate, config: {}\n",
            "\u001b[36m(ClientAppActor pid=17616)\u001b[0m [Client 2] evaluate, config: {}\n"
          ]
        },
        {
          "output_type": "stream",
          "name": "stderr",
          "text": [
            "\u001b[92mINFO \u001b[0m:      aggregate_evaluate: received 3 results and 0 failures\n",
            "\u001b[92mINFO \u001b[0m:      \n",
            "\u001b[92mINFO \u001b[0m:      [SUMMARY]\n",
            "\u001b[92mINFO \u001b[0m:      Run finished 3 round(s) in 136.55s\n",
            "\u001b[92mINFO \u001b[0m:      \tHistory (loss, distributed):\n",
            "\u001b[92mINFO \u001b[0m:      \t\tround 1: 0.06233945270379384\n",
            "\u001b[92mINFO \u001b[0m:      \t\tround 2: 0.05627475241820017\n",
            "\u001b[92mINFO \u001b[0m:      \t\tround 3: 0.05140901712576548\n",
            "\u001b[92mINFO \u001b[0m:      \tHistory (loss, centralized):\n",
            "\u001b[92mINFO \u001b[0m:      \t\tround 0: 0.07211922733783722\n",
            "\u001b[92mINFO \u001b[0m:      \t\tround 1: 0.06072256523370743\n",
            "\u001b[92mINFO \u001b[0m:      \t\tround 2: 0.05406454575061798\n",
            "\u001b[92mINFO \u001b[0m:      \t\tround 3: 0.05086568427085877\n",
            "\u001b[92mINFO \u001b[0m:      \tHistory (metrics, centralized):\n",
            "\u001b[92mINFO \u001b[0m:      \t{'accuracy': [(0, 0.099), (1, 0.2924), (2, 0.3657), (3, 0.404)]}\n",
            "\u001b[92mINFO \u001b[0m:      \n"
          ]
        }
      ],
      "source": [
        "# Run simulation\n",
        "run_simulation(\n",
        "    server_app=server,\n",
        "    client_app=client,\n",
        "    num_supernodes=NUM_PARTITIONS,\n",
        "    backend_config=backend_config,\n",
        ")"
      ]
    },
    {
      "cell_type": "markdown",
      "metadata": {
        "id": "KKIGH5kv26pn"
      },
      "source": [
        "## Sending/receiving arbitrary values to/from clients\n",
        "\n",
        "In some situations, we want to configure client-side execution (training, evaluation) from the server-side. One example for that is the server asking the clients to train for a certain number of local epochs. Flower provides a way to send configuration values from the server to the clients using a dictionary. Let's look at an example where the clients receive values from the server through the `config` parameter in `fit` (`config` is also available in `evaluate`). The `fit` method receives the configuration dictionary through the `config` parameter and can then read values from this dictionary. In this example, it reads `server_round` and `local_epochs` and uses those values to improve the logging and configure the number of local training epochs:"
      ]
    },
    {
      "cell_type": "code",
      "execution_count": 15,
      "metadata": {
        "id": "hsDtVfAj26pn"
      },
      "outputs": [],
      "source": [
        "class FlowerClient(NumPyClient):\n",
        "    def __init__(self, pid, net, trainloader, valloader):\n",
        "        self.pid = pid  # partition ID of a client\n",
        "        self.net = net\n",
        "        self.trainloader = trainloader\n",
        "        self.valloader = valloader\n",
        "\n",
        "    def get_parameters(self, config):\n",
        "        print(f\"[Client {self.pid}] get_parameters\")\n",
        "        return get_parameters(self.net)\n",
        "\n",
        "    def fit(self, parameters, config):\n",
        "        # Read values from config\n",
        "        server_round = config[\"server_round\"]\n",
        "        local_epochs = config[\"local_epochs\"]\n",
        "\n",
        "        # Use values provided by the config\n",
        "        print(f\"[Client {self.pid}, round {server_round}] fit, config: {config}\")\n",
        "        set_parameters(self.net, parameters)\n",
        "        train(self.net, self.trainloader, epochs=local_epochs)\n",
        "        return get_parameters(self.net), len(self.trainloader), {}\n",
        "\n",
        "    def evaluate(self, parameters, config):\n",
        "        print(f\"[Client {self.pid}] evaluate, config: {config}\")\n",
        "        set_parameters(self.net, parameters)\n",
        "        loss, accuracy = test(self.net, self.valloader)\n",
        "        return float(loss), len(self.valloader), {\"accuracy\": float(accuracy)}\n",
        "\n",
        "\n",
        "def client_fn(context: Context) -> Client:\n",
        "    net = Net().to(DEVICE)\n",
        "    partition_id = context.node_config[\"partition-id\"]\n",
        "    num_partitions = context.node_config[\"num-partitions\"]\n",
        "    trainloader, valloader, _ = load_datasets(partition_id, num_partitions)\n",
        "    return FlowerClient(partition_id, net, trainloader, valloader).to_client()\n",
        "\n",
        "\n",
        "# Create the ClientApp\n",
        "client = ClientApp(client_fn=client_fn)"
      ]
    },
    {
      "cell_type": "markdown",
      "metadata": {
        "id": "I3ox6DOY26pn"
      },
      "source": [
        "So how can we  send this config dictionary from server to clients? The built-in Flower Strategies provide way to do this, and it works similarly to the way server-side evaluation works. We provide a function to the strategy, and the strategy calls this function for every round of federated learning:"
      ]
    },
    {
      "cell_type": "code",
      "execution_count": 16,
      "metadata": {
        "id": "W0NOJSc626pn"
      },
      "outputs": [],
      "source": [
        "def fit_config(server_round: int):\n",
        "    \"\"\"Return training configuration dict for each round.\n",
        "\n",
        "    Perform two rounds of training with one local epoch, increase to two local\n",
        "    epochs afterwards.\n",
        "    \"\"\"\n",
        "    config = {\n",
        "        \"server_round\": server_round,  # The current round of federated learning\n",
        "        \"local_epochs\": 1 if server_round < 2 else 2,\n",
        "    }\n",
        "    return config"
      ]
    },
    {
      "cell_type": "markdown",
      "metadata": {
        "id": "smXZiwWx26pn"
      },
      "source": [
        "Next, we'll pass this function to the FedAvg strategy before starting the simulation:"
      ]
    },
    {
      "cell_type": "code",
      "execution_count": 17,
      "metadata": {
        "id": "kk-qwIV726pn",
        "outputId": "0a3c1c30-0142-4dd6-ba46-c2dec1dd9131",
        "colab": {
          "base_uri": "https://localhost:8080/"
        }
      },
      "outputs": [
        {
          "output_type": "stream",
          "name": "stderr",
          "text": [
            "\u001b[92mINFO \u001b[0m:      Starting Flower ServerApp, config: num_rounds=3, no round_timeout\n",
            "\u001b[92mINFO \u001b[0m:      \n",
            "\u001b[92mINFO \u001b[0m:      [INIT]\n",
            "\u001b[92mINFO \u001b[0m:      Using initial global parameters provided by strategy\n",
            "\u001b[92mINFO \u001b[0m:      Starting evaluation of initial global parameters\n",
            "\u001b[36m(pid=21238)\u001b[0m 2024-11-07 21:10:40.871173: E external/local_xla/xla/stream_executor/cuda/cuda_fft.cc:485] Unable to register cuFFT factory: Attempting to register factory for plugin cuFFT when one has already been registered\n",
            "\u001b[36m(pid=21238)\u001b[0m 2024-11-07 21:10:40.892814: E external/local_xla/xla/stream_executor/cuda/cuda_dnn.cc:8454] Unable to register cuDNN factory: Attempting to register factory for plugin cuDNN when one has already been registered\n",
            "\u001b[36m(pid=21238)\u001b[0m 2024-11-07 21:10:40.899485: E external/local_xla/xla/stream_executor/cuda/cuda_blas.cc:1452] Unable to register cuBLAS factory: Attempting to register factory for plugin cuBLAS when one has already been registered\n",
            "\u001b[36m(pid=21238)\u001b[0m 2024-11-07 21:10:42.090833: W tensorflow/compiler/tf2tensorrt/utils/py_utils.cc:38] TF-TRT Warning: Could not find TensorRT\n",
            "\u001b[92mINFO \u001b[0m:      initial parameters (loss, other metrics): 0.07211922733783722, {'accuracy': 0.099}\n",
            "\u001b[92mINFO \u001b[0m:      \n",
            "\u001b[92mINFO \u001b[0m:      [ROUND 1]\n",
            "\u001b[92mINFO \u001b[0m:      configure_fit: strategy sampled 3 clients (out of 10)\n"
          ]
        },
        {
          "output_type": "stream",
          "name": "stdout",
          "text": [
            "Server-side evaluation loss 0.07211922733783722 / accuracy 0.099\n"
          ]
        },
        {
          "output_type": "stream",
          "name": "stderr",
          "text": [
            "\u001b[36m(ClientAppActor pid=21238)\u001b[0m /usr/local/lib/python3.10/dist-packages/jupyter_client/connect.py:28: DeprecationWarning: Jupyter is migrating its paths to use standard platformdirs\n",
            "\u001b[36m(ClientAppActor pid=21238)\u001b[0m given by the platformdirs library.  To remove this warning and\n",
            "\u001b[36m(ClientAppActor pid=21238)\u001b[0m see the appropriate new directories, set the environment variable\n",
            "\u001b[36m(ClientAppActor pid=21238)\u001b[0m `JUPYTER_PLATFORM_DIRS=1` and then run `jupyter --paths`.\n",
            "\u001b[36m(ClientAppActor pid=21238)\u001b[0m The use of platformdirs will be the default in `jupyter_core` v6\n",
            "\u001b[36m(ClientAppActor pid=21238)\u001b[0m   from jupyter_core.paths import jupyter_data_dir, jupyter_runtime_dir, secure_write\n"
          ]
        },
        {
          "output_type": "stream",
          "name": "stdout",
          "text": [
            "\u001b[36m(ClientAppActor pid=21238)\u001b[0m [Client 3, round 1] fit, config: {'server_round': 1, 'local_epochs': 1}\n",
            "\u001b[36m(ClientAppActor pid=21238)\u001b[0m Epoch 1: train loss 0.06440678238868713, accuracy 0.225\n",
            "\u001b[36m(ClientAppActor pid=21238)\u001b[0m [Client 5, round 1] fit, config: {'server_round': 1, 'local_epochs': 1}\n",
            "\u001b[36m(ClientAppActor pid=21238)\u001b[0m Epoch 1: train loss 0.06540966778993607, accuracy 0.19675\n",
            "\u001b[36m(ClientAppActor pid=21238)\u001b[0m [Client 6, round 1] fit, config: {'server_round': 1, 'local_epochs': 1}\n"
          ]
        },
        {
          "output_type": "stream",
          "name": "stderr",
          "text": [
            "\u001b[92mINFO \u001b[0m:      aggregate_fit: received 3 results and 0 failures\n",
            "\u001b[93mWARNING \u001b[0m:   No fit_metrics_aggregation_fn provided\n"
          ]
        },
        {
          "output_type": "stream",
          "name": "stdout",
          "text": [
            "\u001b[36m(ClientAppActor pid=21238)\u001b[0m Epoch 1: train loss 0.06390578299760818, accuracy 0.237\n"
          ]
        },
        {
          "output_type": "stream",
          "name": "stderr",
          "text": [
            "\u001b[92mINFO \u001b[0m:      fit progress: (1, 0.06017225750684738, {'accuracy': 0.3032}, 36.79543058699983)\n",
            "\u001b[92mINFO \u001b[0m:      configure_evaluate: strategy sampled 3 clients (out of 10)\n"
          ]
        },
        {
          "output_type": "stream",
          "name": "stdout",
          "text": [
            "Server-side evaluation loss 0.06017225750684738 / accuracy 0.3032\n",
            "\u001b[36m(ClientAppActor pid=21238)\u001b[0m [Client 4] evaluate, config: {}\n",
            "\u001b[36m(ClientAppActor pid=21238)\u001b[0m [Client 8] evaluate, config: {}\n",
            "\u001b[36m(ClientAppActor pid=21238)\u001b[0m [Client 9] evaluate, config: {}\n"
          ]
        },
        {
          "output_type": "stream",
          "name": "stderr",
          "text": [
            "\u001b[92mINFO \u001b[0m:      aggregate_evaluate: received 3 results and 0 failures\n",
            "\u001b[93mWARNING \u001b[0m:   No evaluate_metrics_aggregation_fn provided\n",
            "\u001b[92mINFO \u001b[0m:      \n",
            "\u001b[92mINFO \u001b[0m:      [ROUND 2]\n",
            "\u001b[92mINFO \u001b[0m:      configure_fit: strategy sampled 3 clients (out of 10)\n"
          ]
        },
        {
          "output_type": "stream",
          "name": "stdout",
          "text": [
            "\u001b[36m(ClientAppActor pid=21238)\u001b[0m [Client 0, round 2] fit, config: {'server_round': 2, 'local_epochs': 2}\n",
            "\u001b[36m(ClientAppActor pid=21238)\u001b[0m Epoch 1: train loss 0.058347977697849274, accuracy 0.306\n",
            "\u001b[36m(ClientAppActor pid=21238)\u001b[0m Epoch 2: train loss 0.05339705944061279, accuracy 0.369\n",
            "\u001b[36m(ClientAppActor pid=21238)\u001b[0m [Client 2, round 2] fit, config: {'server_round': 2, 'local_epochs': 2}\n",
            "\u001b[36m(ClientAppActor pid=21238)\u001b[0m Epoch 1: train loss 0.05845959484577179, accuracy 0.303\n",
            "\u001b[36m(ClientAppActor pid=21238)\u001b[0m Epoch 2: train loss 0.05297349393367767, accuracy 0.37675\n",
            "\u001b[36m(ClientAppActor pid=21238)\u001b[0m [Client 4, round 2] fit, config: {'server_round': 2, 'local_epochs': 2}\n",
            "\u001b[36m(ClientAppActor pid=21238)\u001b[0m Epoch 1: train loss 0.05788501724600792, accuracy 0.31325\n"
          ]
        },
        {
          "output_type": "stream",
          "name": "stderr",
          "text": [
            "\u001b[92mINFO \u001b[0m:      aggregate_fit: received 3 results and 0 failures\n"
          ]
        },
        {
          "output_type": "stream",
          "name": "stdout",
          "text": [
            "\u001b[36m(ClientAppActor pid=21238)\u001b[0m Epoch 2: train loss 0.05332280322909355, accuracy 0.37825\n"
          ]
        },
        {
          "output_type": "stream",
          "name": "stderr",
          "text": [
            "\u001b[92mINFO \u001b[0m:      fit progress: (2, 0.05124033542871475, {'accuracy': 0.4005}, 84.26387453299958)\n",
            "\u001b[92mINFO \u001b[0m:      configure_evaluate: strategy sampled 3 clients (out of 10)\n"
          ]
        },
        {
          "output_type": "stream",
          "name": "stdout",
          "text": [
            "Server-side evaluation loss 0.05124033542871475 / accuracy 0.4005\n",
            "\u001b[36m(ClientAppActor pid=21238)\u001b[0m [Client 0] evaluate, config: {}\n",
            "\u001b[36m(ClientAppActor pid=21238)\u001b[0m [Client 1] evaluate, config: {}\n",
            "\u001b[36m(ClientAppActor pid=21238)\u001b[0m [Client 6] evaluate, config: {}\n"
          ]
        },
        {
          "output_type": "stream",
          "name": "stderr",
          "text": [
            "\u001b[92mINFO \u001b[0m:      aggregate_evaluate: received 3 results and 0 failures\n",
            "\u001b[92mINFO \u001b[0m:      \n",
            "\u001b[92mINFO \u001b[0m:      [ROUND 3]\n",
            "\u001b[92mINFO \u001b[0m:      configure_fit: strategy sampled 3 clients (out of 10)\n"
          ]
        },
        {
          "output_type": "stream",
          "name": "stdout",
          "text": [
            "\u001b[36m(ClientAppActor pid=21238)\u001b[0m [Client 4, round 3] fit, config: {'server_round': 3, 'local_epochs': 2}\n",
            "\u001b[36m(ClientAppActor pid=21238)\u001b[0m Epoch 1: train loss 0.0514962300658226, accuracy 0.39525\n",
            "\u001b[36m(ClientAppActor pid=21238)\u001b[0m Epoch 2: train loss 0.04854893684387207, accuracy 0.423\n",
            "\u001b[36m(ClientAppActor pid=21238)\u001b[0m [Client 5, round 3] fit, config: {'server_round': 3, 'local_epochs': 2}\n",
            "\u001b[36m(ClientAppActor pid=21238)\u001b[0m Epoch 1: train loss 0.05094598978757858, accuracy 0.38925\n",
            "\u001b[36m(ClientAppActor pid=21238)\u001b[0m Epoch 2: train loss 0.04842579364776611, accuracy 0.42225\n",
            "\u001b[36m(ClientAppActor pid=21238)\u001b[0m [Client 9, round 3] fit, config: {'server_round': 3, 'local_epochs': 2}\n",
            "\u001b[36m(ClientAppActor pid=21238)\u001b[0m Epoch 1: train loss 0.05147053673863411, accuracy 0.3945\n"
          ]
        },
        {
          "output_type": "stream",
          "name": "stderr",
          "text": [
            "\u001b[92mINFO \u001b[0m:      aggregate_fit: received 3 results and 0 failures\n"
          ]
        },
        {
          "output_type": "stream",
          "name": "stdout",
          "text": [
            "\u001b[36m(ClientAppActor pid=21238)\u001b[0m Epoch 2: train loss 0.04832667112350464, accuracy 0.43125\n"
          ]
        },
        {
          "output_type": "stream",
          "name": "stderr",
          "text": [
            "\u001b[92mINFO \u001b[0m:      fit progress: (3, 0.04718773362636566, {'accuracy': 0.4405}, 130.95409105599992)\n",
            "\u001b[92mINFO \u001b[0m:      configure_evaluate: strategy sampled 3 clients (out of 10)\n"
          ]
        },
        {
          "output_type": "stream",
          "name": "stdout",
          "text": [
            "Server-side evaluation loss 0.04718773362636566 / accuracy 0.4405\n",
            "\u001b[36m(ClientAppActor pid=21238)\u001b[0m [Client 1] evaluate, config: {}\n",
            "\u001b[36m(ClientAppActor pid=21238)\u001b[0m [Client 4] evaluate, config: {}\n",
            "\u001b[36m(ClientAppActor pid=21238)\u001b[0m [Client 9] evaluate, config: {}\n"
          ]
        },
        {
          "output_type": "stream",
          "name": "stderr",
          "text": [
            "\u001b[92mINFO \u001b[0m:      aggregate_evaluate: received 3 results and 0 failures\n",
            "\u001b[92mINFO \u001b[0m:      \n",
            "\u001b[92mINFO \u001b[0m:      [SUMMARY]\n",
            "\u001b[92mINFO \u001b[0m:      Run finished 3 round(s) in 145.30s\n",
            "\u001b[92mINFO \u001b[0m:      \tHistory (loss, distributed):\n",
            "\u001b[92mINFO \u001b[0m:      \t\tround 1: 0.06172615480422974\n",
            "\u001b[92mINFO \u001b[0m:      \t\tround 2: 0.05268519953886667\n",
            "\u001b[92mINFO \u001b[0m:      \t\tround 3: 0.048844263633092244\n",
            "\u001b[92mINFO \u001b[0m:      \tHistory (loss, centralized):\n",
            "\u001b[92mINFO \u001b[0m:      \t\tround 0: 0.07211922733783722\n",
            "\u001b[92mINFO \u001b[0m:      \t\tround 1: 0.06017225750684738\n",
            "\u001b[92mINFO \u001b[0m:      \t\tround 2: 0.05124033542871475\n",
            "\u001b[92mINFO \u001b[0m:      \t\tround 3: 0.04718773362636566\n",
            "\u001b[92mINFO \u001b[0m:      \tHistory (metrics, centralized):\n",
            "\u001b[92mINFO \u001b[0m:      \t{'accuracy': [(0, 0.099), (1, 0.3032), (2, 0.4005), (3, 0.4405)]}\n",
            "\u001b[92mINFO \u001b[0m:      \n"
          ]
        }
      ],
      "source": [
        "def server_fn(context: Context) -> ServerAppComponents:\n",
        "    # Create FedAvg strategy\n",
        "    strategy = FedAvg(\n",
        "        fraction_fit=0.3,\n",
        "        fraction_evaluate=0.3,\n",
        "        min_fit_clients=3,\n",
        "        min_evaluate_clients=3,\n",
        "        min_available_clients=NUM_PARTITIONS,\n",
        "        initial_parameters=ndarrays_to_parameters(params),\n",
        "        evaluate_fn=evaluate,\n",
        "        on_fit_config_fn=fit_config,  # Pass the fit_config function\n",
        "    )\n",
        "    config = ServerConfig(num_rounds=3)\n",
        "    return ServerAppComponents(strategy=strategy, config=config)\n",
        "\n",
        "\n",
        "# Create the ServerApp\n",
        "server = ServerApp(server_fn=server_fn)\n",
        "\n",
        "# Run simulation\n",
        "run_simulation(\n",
        "    server_app=server,\n",
        "    client_app=client,\n",
        "    num_supernodes=NUM_PARTITIONS,\n",
        "    backend_config=backend_config,\n",
        ")"
      ]
    },
    {
      "cell_type": "markdown",
      "metadata": {
        "id": "NfKEKvlI26pn"
      },
      "source": [
        "As we can see, the client logs now include the current round of federated learning (which they read from the `config` dictionary). We can also configure local training to run for one epoch during the first and second round of federated learning, and then for two epochs during the third round.\n",
        "\n",
        "Clients can also return arbitrary values to the server. To do so, they return a dictionary from `fit` and/or `evaluate`. We have seen and used this concept throughout this notebook without mentioning it explicitly: our `FlowerClient` returns a dictionary containing a custom key/value pair as the third return value in `evaluate`."
      ]
    },
    {
      "cell_type": "markdown",
      "metadata": {
        "id": "48sqkt0E26pn"
      },
      "source": [
        "## Scaling federated learning\n",
        "\n",
        "As a last step in this notebook, let's see how we can use Flower to experiment with a large number of clients."
      ]
    },
    {
      "cell_type": "code",
      "execution_count": 18,
      "metadata": {
        "id": "wTHzDmWv26pq"
      },
      "outputs": [],
      "source": [
        "NUM_PARTITIONS = 1000"
      ]
    },
    {
      "cell_type": "markdown",
      "metadata": {
        "id": "oAUn203326pq"
      },
      "source": [
        "Note that we can reuse the `ClientApp` for different `num-partitions` since the Context is defined by the `num_supernodes` argument in `run_simulation()`.\n",
        "\n",
        "We now have 1000 partitions, each holding 45 training and 5 validation examples. Given that the number of training examples on each client is quite small, we should probably train the model a bit longer, so we configure the clients to perform 3 local training epochs. We should also adjust the fraction of clients selected for training during each round (we don't want all 1000 clients participating in every round), so we adjust `fraction_fit` to `0.025`, which means that only 2.5% of available clients (so 25 clients) will be selected for training each round:\n"
      ]
    },
    {
      "cell_type": "code",
      "execution_count": 19,
      "metadata": {
        "id": "scU6SPzD26pq",
        "outputId": "e75278f3-7e7b-4895-b2ae-e6dced8653b9",
        "colab": {
          "base_uri": "https://localhost:8080/"
        }
      },
      "outputs": [
        {
          "output_type": "stream",
          "name": "stderr",
          "text": [
            "\u001b[92mINFO \u001b[0m:      Starting Flower ServerApp, config: num_rounds=3, no round_timeout\n",
            "\u001b[92mINFO \u001b[0m:      \n",
            "\u001b[92mINFO \u001b[0m:      [INIT]\n",
            "\u001b[92mINFO \u001b[0m:      Using initial global parameters provided by strategy\n",
            "\u001b[92mINFO \u001b[0m:      Starting evaluation of initial global parameters\n",
            "\u001b[92mINFO \u001b[0m:      Evaluation returned no results (`None`)\n",
            "\u001b[92mINFO \u001b[0m:      \n",
            "\u001b[92mINFO \u001b[0m:      [ROUND 1]\n",
            "\u001b[92mINFO \u001b[0m:      configure_fit: strategy sampled 20 clients (out of 1000)\n",
            "\u001b[36m(pid=24454)\u001b[0m 2024-11-07 21:19:50.050111: E external/local_xla/xla/stream_executor/cuda/cuda_fft.cc:485] Unable to register cuFFT factory: Attempting to register factory for plugin cuFFT when one has already been registered\n",
            "\u001b[36m(pid=24454)\u001b[0m 2024-11-07 21:19:50.071999: E external/local_xla/xla/stream_executor/cuda/cuda_dnn.cc:8454] Unable to register cuDNN factory: Attempting to register factory for plugin cuDNN when one has already been registered\n",
            "\u001b[36m(pid=24454)\u001b[0m 2024-11-07 21:19:50.078519: E external/local_xla/xla/stream_executor/cuda/cuda_blas.cc:1452] Unable to register cuBLAS factory: Attempting to register factory for plugin cuBLAS when one has already been registered\n",
            "\u001b[36m(pid=24454)\u001b[0m 2024-11-07 21:19:51.301081: W tensorflow/compiler/tf2tensorrt/utils/py_utils.cc:38] TF-TRT Warning: Could not find TensorRT\n",
            "\u001b[36m(ClientAppActor pid=24454)\u001b[0m /usr/local/lib/python3.10/dist-packages/jupyter_client/connect.py:28: DeprecationWarning: Jupyter is migrating its paths to use standard platformdirs\n",
            "\u001b[36m(ClientAppActor pid=24454)\u001b[0m given by the platformdirs library.  To remove this warning and\n",
            "\u001b[36m(ClientAppActor pid=24454)\u001b[0m see the appropriate new directories, set the environment variable\n",
            "\u001b[36m(ClientAppActor pid=24454)\u001b[0m `JUPYTER_PLATFORM_DIRS=1` and then run `jupyter --paths`.\n",
            "\u001b[36m(ClientAppActor pid=24454)\u001b[0m The use of platformdirs will be the default in `jupyter_core` v6\n",
            "\u001b[36m(ClientAppActor pid=24454)\u001b[0m   from jupyter_core.paths import jupyter_data_dir, jupyter_runtime_dir, secure_write\n"
          ]
        },
        {
          "output_type": "stream",
          "name": "stdout",
          "text": [
            "\u001b[36m(ClientAppActor pid=24454)\u001b[0m [Client 11, round 1] fit, config: {'server_round': 1, 'local_epochs': 3}\n",
            "\u001b[36m(ClientAppActor pid=24454)\u001b[0m Epoch 1: train loss 0.1156863197684288, accuracy 0.05\n",
            "\u001b[36m(ClientAppActor pid=24454)\u001b[0m Epoch 2: train loss 0.11481993645429611, accuracy 0.2\n",
            "\u001b[36m(ClientAppActor pid=24454)\u001b[0m Epoch 3: train loss 0.11416608095169067, accuracy 0.225\n",
            "\u001b[36m(ClientAppActor pid=24454)\u001b[0m [Client 75, round 1] fit, config: {'server_round': 1, 'local_epochs': 3}\n",
            "\u001b[36m(ClientAppActor pid=24454)\u001b[0m Epoch 1: train loss 0.11536194384098053, accuracy 0.1\n",
            "\u001b[36m(ClientAppActor pid=24454)\u001b[0m Epoch 2: train loss 0.11478845030069351, accuracy 0.15\n",
            "\u001b[36m(ClientAppActor pid=24454)\u001b[0m Epoch 3: train loss 0.11333391815423965, accuracy 0.325\n",
            "\u001b[36m(ClientAppActor pid=24454)\u001b[0m [Client 87, round 1] fit, config: {'server_round': 1, 'local_epochs': 3}\n",
            "\u001b[36m(ClientAppActor pid=24454)\u001b[0m Epoch 1: train loss 0.11547800153493881, accuracy 0.05\n",
            "\u001b[36m(ClientAppActor pid=24454)\u001b[0m Epoch 2: train loss 0.11427738517522812, accuracy 0.225\n",
            "\u001b[36m(ClientAppActor pid=24454)\u001b[0m Epoch 3: train loss 0.11349447071552277, accuracy 0.15\n",
            "\u001b[36m(ClientAppActor pid=24454)\u001b[0m [Client 263, round 1] fit, config: {'server_round': 1, 'local_epochs': 3}\n",
            "\u001b[36m(ClientAppActor pid=24454)\u001b[0m Epoch 1: train loss 0.11440267413854599, accuracy 0.15\n",
            "\u001b[36m(ClientAppActor pid=24454)\u001b[0m Epoch 2: train loss 0.11336863040924072, accuracy 0.2\n",
            "\u001b[36m(ClientAppActor pid=24454)\u001b[0m Epoch 3: train loss 0.11278319358825684, accuracy 0.175\n",
            "\u001b[36m(ClientAppActor pid=24454)\u001b[0m [Client 388, round 1] fit, config: {'server_round': 1, 'local_epochs': 3}\n",
            "\u001b[36m(ClientAppActor pid=24454)\u001b[0m Epoch 1: train loss 0.11551883071660995, accuracy 0.125\n",
            "\u001b[36m(ClientAppActor pid=24454)\u001b[0m Epoch 2: train loss 0.11504709720611572, accuracy 0.125\n",
            "\u001b[36m(ClientAppActor pid=24454)\u001b[0m Epoch 3: train loss 0.11477934569120407, accuracy 0.125\n",
            "\u001b[36m(ClientAppActor pid=24454)\u001b[0m [Client 472, round 1] fit, config: {'server_round': 1, 'local_epochs': 3}\n",
            "\u001b[36m(ClientAppActor pid=24454)\u001b[0m Epoch 1: train loss 0.11563847213983536, accuracy 0.125\n",
            "\u001b[36m(ClientAppActor pid=24454)\u001b[0m Epoch 2: train loss 0.11444242298603058, accuracy 0.125\n",
            "\u001b[36m(ClientAppActor pid=24454)\u001b[0m Epoch 3: train loss 0.11346471309661865, accuracy 0.125\n",
            "\u001b[36m(ClientAppActor pid=24454)\u001b[0m [Client 543, round 1] fit, config: {'server_round': 1, 'local_epochs': 3}\n",
            "\u001b[36m(ClientAppActor pid=24454)\u001b[0m Epoch 1: train loss 0.11604873090982437, accuracy 0.05\n",
            "\u001b[36m(ClientAppActor pid=24454)\u001b[0m Epoch 2: train loss 0.11472546309232712, accuracy 0.1\n",
            "\u001b[36m(ClientAppActor pid=24454)\u001b[0m Epoch 3: train loss 0.11481726169586182, accuracy 0.125\n",
            "\u001b[36m(ClientAppActor pid=24454)\u001b[0m [Client 646, round 1] fit, config: {'server_round': 1, 'local_epochs': 3}\n",
            "\u001b[36m(ClientAppActor pid=24454)\u001b[0m Epoch 1: train loss 0.1152704507112503, accuracy 0.1\n",
            "\u001b[36m(ClientAppActor pid=24454)\u001b[0m Epoch 2: train loss 0.11437473446130753, accuracy 0.1\n",
            "\u001b[36m(ClientAppActor pid=24454)\u001b[0m Epoch 3: train loss 0.11401964724063873, accuracy 0.1\n",
            "\u001b[36m(ClientAppActor pid=24454)\u001b[0m [Client 687, round 1] fit, config: {'server_round': 1, 'local_epochs': 3}\n",
            "\u001b[36m(ClientAppActor pid=24454)\u001b[0m Epoch 1: train loss 0.11588878929615021, accuracy 0.1\n",
            "\u001b[36m(ClientAppActor pid=24454)\u001b[0m Epoch 2: train loss 0.11411621421575546, accuracy 0.1\n",
            "\u001b[36m(ClientAppActor pid=24454)\u001b[0m Epoch 3: train loss 0.11343035846948624, accuracy 0.275\n",
            "\u001b[36m(ClientAppActor pid=24454)\u001b[0m [Client 723, round 1] fit, config: {'server_round': 1, 'local_epochs': 3}\n",
            "\u001b[36m(ClientAppActor pid=24454)\u001b[0m Epoch 1: train loss 0.11513342708349228, accuracy 0.175\n",
            "\u001b[36m(ClientAppActor pid=24454)\u001b[0m Epoch 2: train loss 0.1132454052567482, accuracy 0.2\n",
            "\u001b[36m(ClientAppActor pid=24454)\u001b[0m Epoch 3: train loss 0.11155708134174347, accuracy 0.3\n",
            "\u001b[36m(ClientAppActor pid=24454)\u001b[0m [Client 754, round 1] fit, config: {'server_round': 1, 'local_epochs': 3}\n",
            "\u001b[36m(ClientAppActor pid=24454)\u001b[0m Epoch 1: train loss 0.11545731872320175, accuracy 0.1\n",
            "\u001b[36m(ClientAppActor pid=24454)\u001b[0m Epoch 2: train loss 0.11478300392627716, accuracy 0.1\n",
            "\u001b[36m(ClientAppActor pid=24454)\u001b[0m Epoch 3: train loss 0.11397957801818848, accuracy 0.175\n",
            "\u001b[36m(ClientAppActor pid=24454)\u001b[0m [Client 835, round 1] fit, config: {'server_round': 1, 'local_epochs': 3}\n",
            "\u001b[36m(ClientAppActor pid=24454)\u001b[0m Epoch 1: train loss 0.11536221951246262, accuracy 0.05\n",
            "\u001b[36m(ClientAppActor pid=24454)\u001b[0m Epoch 2: train loss 0.11504624038934708, accuracy 0.15\n",
            "\u001b[36m(ClientAppActor pid=24454)\u001b[0m Epoch 3: train loss 0.11391077190637589, accuracy 0.15\n",
            "\u001b[36m(ClientAppActor pid=24454)\u001b[0m [Client 840, round 1] fit, config: {'server_round': 1, 'local_epochs': 3}\n",
            "\u001b[36m(ClientAppActor pid=24454)\u001b[0m Epoch 1: train loss 0.11553378403186798, accuracy 0.075\n",
            "\u001b[36m(ClientAppActor pid=24454)\u001b[0m Epoch 2: train loss 0.11473482102155685, accuracy 0.125\n",
            "\u001b[36m(ClientAppActor pid=24454)\u001b[0m Epoch 3: train loss 0.1131952777504921, accuracy 0.15\n",
            "\u001b[36m(ClientAppActor pid=24454)\u001b[0m [Client 919, round 1] fit, config: {'server_round': 1, 'local_epochs': 3}\n",
            "\u001b[36m(ClientAppActor pid=24454)\u001b[0m Epoch 1: train loss 0.11491682380437851, accuracy 0.1\n",
            "\u001b[36m(ClientAppActor pid=24454)\u001b[0m Epoch 2: train loss 0.11472652107477188, accuracy 0.175\n",
            "\u001b[36m(ClientAppActor pid=24454)\u001b[0m Epoch 3: train loss 0.11392196267843246, accuracy 0.225\n",
            "\u001b[36m(ClientAppActor pid=24454)\u001b[0m [Client 929, round 1] fit, config: {'server_round': 1, 'local_epochs': 3}\n",
            "\u001b[36m(ClientAppActor pid=24454)\u001b[0m Epoch 1: train loss 0.1146666556596756, accuracy 0.175\n",
            "\u001b[36m(ClientAppActor pid=24454)\u001b[0m Epoch 2: train loss 0.11372790485620499, accuracy 0.275\n",
            "\u001b[36m(ClientAppActor pid=24454)\u001b[0m Epoch 3: train loss 0.11261961609125137, accuracy 0.275\n",
            "\u001b[36m(ClientAppActor pid=24454)\u001b[0m [Client 945, round 1] fit, config: {'server_round': 1, 'local_epochs': 3}\n",
            "\u001b[36m(ClientAppActor pid=24454)\u001b[0m Epoch 1: train loss 0.11510894447565079, accuracy 0.175\n",
            "\u001b[36m(ClientAppActor pid=24454)\u001b[0m Epoch 2: train loss 0.11451029777526855, accuracy 0.175\n",
            "\u001b[36m(ClientAppActor pid=24454)\u001b[0m Epoch 3: train loss 0.11392568796873093, accuracy 0.175\n",
            "\u001b[36m(ClientAppActor pid=24454)\u001b[0m [Client 658, round 1] fit, config: {'server_round': 1, 'local_epochs': 3}\n",
            "\u001b[36m(ClientAppActor pid=24454)\u001b[0m Epoch 1: train loss 0.11489541828632355, accuracy 0.15\n",
            "\u001b[36m(ClientAppActor pid=24454)\u001b[0m Epoch 2: train loss 0.11405165493488312, accuracy 0.2\n",
            "\u001b[36m(ClientAppActor pid=24454)\u001b[0m Epoch 3: train loss 0.11321135610342026, accuracy 0.25\n",
            "\u001b[36m(ClientAppActor pid=24454)\u001b[0m [Client 744, round 1] fit, config: {'server_round': 1, 'local_epochs': 3}\n",
            "\u001b[36m(ClientAppActor pid=24454)\u001b[0m Epoch 1: train loss 0.11588340252637863, accuracy 0.05\n",
            "\u001b[36m(ClientAppActor pid=24454)\u001b[0m Epoch 2: train loss 0.11501295864582062, accuracy 0.2\n",
            "\u001b[36m(ClientAppActor pid=24454)\u001b[0m Epoch 3: train loss 0.11444778740406036, accuracy 0.2\n",
            "\u001b[36m(ClientAppActor pid=24454)\u001b[0m [Client 150, round 1] fit, config: {'server_round': 1, 'local_epochs': 3}\n",
            "\u001b[36m(ClientAppActor pid=24454)\u001b[0m Epoch 1: train loss 0.11456527560949326, accuracy 0.1\n",
            "\u001b[36m(ClientAppActor pid=24454)\u001b[0m Epoch 2: train loss 0.11409509181976318, accuracy 0.25\n",
            "\u001b[36m(ClientAppActor pid=24454)\u001b[0m Epoch 3: train loss 0.11305458843708038, accuracy 0.275\n"
          ]
        },
        {
          "output_type": "stream",
          "name": "stderr",
          "text": [
            "\u001b[92mINFO \u001b[0m:      aggregate_fit: received 20 results and 0 failures\n",
            "\u001b[93mWARNING \u001b[0m:   No fit_metrics_aggregation_fn provided\n",
            "\u001b[92mINFO \u001b[0m:      configure_evaluate: strategy sampled 50 clients (out of 1000)\n"
          ]
        },
        {
          "output_type": "stream",
          "name": "stdout",
          "text": [
            "\u001b[36m(ClientAppActor pid=24454)\u001b[0m [Client 421, round 1] fit, config: {'server_round': 1, 'local_epochs': 3}\n",
            "\u001b[36m(ClientAppActor pid=24454)\u001b[0m Epoch 1: train loss 0.11511905491352081, accuracy 0.05\n",
            "\u001b[36m(ClientAppActor pid=24454)\u001b[0m Epoch 2: train loss 0.11405690014362335, accuracy 0.15\n",
            "\u001b[36m(ClientAppActor pid=24454)\u001b[0m Epoch 3: train loss 0.11404301971197128, accuracy 0.175\n",
            "\u001b[36m(ClientAppActor pid=24454)\u001b[0m [Client 299] evaluate, config: {}\n",
            "\u001b[36m(ClientAppActor pid=24454)\u001b[0m [Client 774] evaluate, config: {}\n",
            "\u001b[36m(ClientAppActor pid=24454)\u001b[0m [Client 834] evaluate, config: {}\n",
            "\u001b[36m(ClientAppActor pid=24454)\u001b[0m [Client 147] evaluate, config: {}\n",
            "\u001b[36m(ClientAppActor pid=24454)\u001b[0m [Client 157] evaluate, config: {}\n",
            "\u001b[36m(ClientAppActor pid=24454)\u001b[0m [Client 266] evaluate, config: {}\n",
            "\u001b[36m(ClientAppActor pid=24454)\u001b[0m [Client 326] evaluate, config: {}\n",
            "\u001b[36m(ClientAppActor pid=24454)\u001b[0m [Client 458] evaluate, config: {}\n",
            "\u001b[36m(ClientAppActor pid=24454)\u001b[0m [Client 474] evaluate, config: {}\n",
            "\u001b[36m(ClientAppActor pid=24454)\u001b[0m [Client 555] evaluate, config: {}\n",
            "\u001b[36m(ClientAppActor pid=24454)\u001b[0m [Client 640] evaluate, config: {}\n",
            "\u001b[36m(ClientAppActor pid=24454)\u001b[0m [Client 779] evaluate, config: {}\n",
            "\u001b[36m(ClientAppActor pid=24454)\u001b[0m [Client 870] evaluate, config: {}\n",
            "\u001b[36m(ClientAppActor pid=24454)\u001b[0m [Client 871] evaluate, config: {}\n",
            "\u001b[36m(ClientAppActor pid=24454)\u001b[0m [Client 955] evaluate, config: {}\n",
            "\u001b[36m(ClientAppActor pid=24454)\u001b[0m [Client 970] evaluate, config: {}\n",
            "\u001b[36m(ClientAppActor pid=24454)\u001b[0m [Client 844] evaluate, config: {}\n",
            "\u001b[36m(ClientAppActor pid=24454)\u001b[0m [Client 762] evaluate, config: {}\n",
            "\u001b[36m(ClientAppActor pid=24454)\u001b[0m [Client 722] evaluate, config: {}\n",
            "\u001b[36m(ClientAppActor pid=24454)\u001b[0m [Client 5] evaluate, config: {}\n",
            "\u001b[36m(ClientAppActor pid=24454)\u001b[0m [Client 569] evaluate, config: {}\n",
            "\u001b[36m(ClientAppActor pid=24454)\u001b[0m [Client 259] evaluate, config: {}\n",
            "\u001b[36m(ClientAppActor pid=24454)\u001b[0m [Client 641] evaluate, config: {}\n",
            "\u001b[36m(ClientAppActor pid=24454)\u001b[0m [Client 249] evaluate, config: {}\n",
            "\u001b[36m(ClientAppActor pid=24454)\u001b[0m [Client 395] evaluate, config: {}\n",
            "\u001b[36m(ClientAppActor pid=24454)\u001b[0m [Client 227] evaluate, config: {}\n",
            "\u001b[36m(ClientAppActor pid=24454)\u001b[0m [Client 205] evaluate, config: {}\n",
            "\u001b[36m(ClientAppActor pid=24454)\u001b[0m [Client 677] evaluate, config: {}\n",
            "\u001b[36m(ClientAppActor pid=24454)\u001b[0m [Client 878] evaluate, config: {}\n",
            "\u001b[36m(ClientAppActor pid=24454)\u001b[0m [Client 726] evaluate, config: {}\n",
            "\u001b[36m(ClientAppActor pid=24454)\u001b[0m [Client 19] evaluate, config: {}\n",
            "\u001b[36m(ClientAppActor pid=24454)\u001b[0m [Client 741] evaluate, config: {}\n",
            "\u001b[36m(ClientAppActor pid=24454)\u001b[0m [Client 86] evaluate, config: {}\n",
            "\u001b[36m(ClientAppActor pid=24454)\u001b[0m [Client 189] evaluate, config: {}\n",
            "\u001b[36m(ClientAppActor pid=24454)\u001b[0m [Client 177] evaluate, config: {}\n",
            "\u001b[36m(ClientAppActor pid=24454)\u001b[0m [Client 673] evaluate, config: {}\n",
            "\u001b[36m(ClientAppActor pid=24454)\u001b[0m [Client 289] evaluate, config: {}\n",
            "\u001b[36m(ClientAppActor pid=24454)\u001b[0m [Client 660] evaluate, config: {}\n",
            "\u001b[36m(ClientAppActor pid=24454)\u001b[0m [Client 776] evaluate, config: {}\n",
            "\u001b[36m(ClientAppActor pid=24454)\u001b[0m [Client 277] evaluate, config: {}\n",
            "\u001b[36m(ClientAppActor pid=24454)\u001b[0m [Client 944] evaluate, config: {}\n",
            "\u001b[36m(ClientAppActor pid=24454)\u001b[0m [Client 288] evaluate, config: {}\n",
            "\u001b[36m(ClientAppActor pid=24454)\u001b[0m [Client 485] evaluate, config: {}\n",
            "\u001b[36m(ClientAppActor pid=24454)\u001b[0m [Client 405] evaluate, config: {}\n",
            "\u001b[36m(ClientAppActor pid=24454)\u001b[0m [Client 113] evaluate, config: {}\n",
            "\u001b[36m(ClientAppActor pid=24454)\u001b[0m [Client 387] evaluate, config: {}\n",
            "\u001b[36m(ClientAppActor pid=24454)\u001b[0m [Client 960] evaluate, config: {}\n",
            "\u001b[36m(ClientAppActor pid=24454)\u001b[0m [Client 684] evaluate, config: {}\n",
            "\u001b[36m(ClientAppActor pid=24454)\u001b[0m [Client 783] evaluate, config: {}\n"
          ]
        },
        {
          "output_type": "stream",
          "name": "stderr",
          "text": [
            "\u001b[92mINFO \u001b[0m:      aggregate_evaluate: received 50 results and 0 failures\n",
            "\u001b[93mWARNING \u001b[0m:   No evaluate_metrics_aggregation_fn provided\n",
            "\u001b[92mINFO \u001b[0m:      \n",
            "\u001b[92mINFO \u001b[0m:      [ROUND 2]\n",
            "\u001b[92mINFO \u001b[0m:      configure_fit: strategy sampled 25 clients (out of 1000)\n"
          ]
        },
        {
          "output_type": "stream",
          "name": "stdout",
          "text": [
            "\u001b[36m(ClientAppActor pid=24454)\u001b[0m [Client 898] evaluate, config: {}\n",
            "\u001b[36m(ClientAppActor pid=24454)\u001b[0m [Client 29, round 2] fit, config: {'server_round': 2, 'local_epochs': 3}\n",
            "\u001b[36m(ClientAppActor pid=24454)\u001b[0m Epoch 1: train loss 0.11386223137378693, accuracy 0.125\n",
            "\u001b[36m(ClientAppActor pid=24454)\u001b[0m Epoch 2: train loss 0.11254435032606125, accuracy 0.35\n",
            "\u001b[36m(ClientAppActor pid=24454)\u001b[0m Epoch 3: train loss 0.11137712001800537, accuracy 0.35\n",
            "\u001b[36m(ClientAppActor pid=24454)\u001b[0m [Client 107, round 2] fit, config: {'server_round': 2, 'local_epochs': 3}\n",
            "\u001b[36m(ClientAppActor pid=24454)\u001b[0m Epoch 1: train loss 0.11468107998371124, accuracy 0.075\n",
            "\u001b[36m(ClientAppActor pid=24454)\u001b[0m Epoch 2: train loss 0.11322744190692902, accuracy 0.25\n",
            "\u001b[36m(ClientAppActor pid=24454)\u001b[0m Epoch 3: train loss 0.11112425476312637, accuracy 0.3\n",
            "\u001b[36m(ClientAppActor pid=24454)\u001b[0m [Client 192, round 2] fit, config: {'server_round': 2, 'local_epochs': 3}\n",
            "\u001b[36m(ClientAppActor pid=24454)\u001b[0m Epoch 1: train loss 0.11472957581281662, accuracy 0.15\n",
            "\u001b[36m(ClientAppActor pid=24454)\u001b[0m Epoch 2: train loss 0.114371657371521, accuracy 0.225\n",
            "\u001b[36m(ClientAppActor pid=24454)\u001b[0m Epoch 3: train loss 0.11147663742303848, accuracy 0.25\n",
            "\u001b[36m(ClientAppActor pid=24454)\u001b[0m [Client 323, round 2] fit, config: {'server_round': 2, 'local_epochs': 3}\n",
            "\u001b[36m(ClientAppActor pid=24454)\u001b[0m Epoch 1: train loss 0.11490104347467422, accuracy 0.125\n",
            "\u001b[36m(ClientAppActor pid=24454)\u001b[0m Epoch 2: train loss 0.11325013637542725, accuracy 0.15\n",
            "\u001b[36m(ClientAppActor pid=24454)\u001b[0m Epoch 3: train loss 0.11172693967819214, accuracy 0.15\n",
            "\u001b[36m(ClientAppActor pid=24454)\u001b[0m [Client 336, round 2] fit, config: {'server_round': 2, 'local_epochs': 3}\n",
            "\u001b[36m(ClientAppActor pid=24454)\u001b[0m Epoch 1: train loss 0.11512698978185654, accuracy 0.05\n",
            "\u001b[36m(ClientAppActor pid=24454)\u001b[0m Epoch 2: train loss 0.1138453483581543, accuracy 0.15\n",
            "\u001b[36m(ClientAppActor pid=24454)\u001b[0m Epoch 3: train loss 0.11096544563770294, accuracy 0.4\n",
            "\u001b[36m(ClientAppActor pid=24454)\u001b[0m [Client 503, round 2] fit, config: {'server_round': 2, 'local_epochs': 3}\n",
            "\u001b[36m(ClientAppActor pid=24454)\u001b[0m Epoch 1: train loss 0.11358491331338882, accuracy 0.1\n",
            "\u001b[36m(ClientAppActor pid=24454)\u001b[0m Epoch 2: train loss 0.11275992542505264, accuracy 0.225\n",
            "\u001b[36m(ClientAppActor pid=24454)\u001b[0m Epoch 3: train loss 0.11074388027191162, accuracy 0.225\n",
            "\u001b[36m(ClientAppActor pid=24454)\u001b[0m [Client 569, round 2] fit, config: {'server_round': 2, 'local_epochs': 3}\n",
            "\u001b[36m(ClientAppActor pid=24454)\u001b[0m Epoch 1: train loss 0.11456676572561264, accuracy 0.125\n",
            "\u001b[36m(ClientAppActor pid=24454)\u001b[0m Epoch 2: train loss 0.11287432163953781, accuracy 0.15\n",
            "\u001b[36m(ClientAppActor pid=24454)\u001b[0m Epoch 3: train loss 0.11237924546003342, accuracy 0.25\n",
            "\u001b[36m(ClientAppActor pid=24454)\u001b[0m [Client 588, round 2] fit, config: {'server_round': 2, 'local_epochs': 3}\n",
            "\u001b[36m(ClientAppActor pid=24454)\u001b[0m Epoch 1: train loss 0.11596348136663437, accuracy 0.125\n",
            "\u001b[36m(ClientAppActor pid=24454)\u001b[0m Epoch 2: train loss 0.11442369222640991, accuracy 0.175\n",
            "\u001b[36m(ClientAppActor pid=24454)\u001b[0m Epoch 3: train loss 0.11416282504796982, accuracy 0.225\n",
            "\u001b[36m(ClientAppActor pid=24454)\u001b[0m [Client 681, round 2] fit, config: {'server_round': 2, 'local_epochs': 3}\n",
            "\u001b[36m(ClientAppActor pid=24454)\u001b[0m Epoch 1: train loss 0.11459662765264511, accuracy 0.15\n",
            "\u001b[36m(ClientAppActor pid=24454)\u001b[0m Epoch 2: train loss 0.11381585896015167, accuracy 0.175\n",
            "\u001b[36m(ClientAppActor pid=24454)\u001b[0m Epoch 3: train loss 0.1132776141166687, accuracy 0.175\n",
            "\u001b[36m(ClientAppActor pid=24454)\u001b[0m [Client 700, round 2] fit, config: {'server_round': 2, 'local_epochs': 3}\n",
            "\u001b[36m(ClientAppActor pid=24454)\u001b[0m Epoch 1: train loss 0.11489737033843994, accuracy 0.125\n",
            "\u001b[36m(ClientAppActor pid=24454)\u001b[0m Epoch 2: train loss 0.11412208527326584, accuracy 0.225\n",
            "\u001b[36m(ClientAppActor pid=24454)\u001b[0m Epoch 3: train loss 0.11290478706359863, accuracy 0.225\n",
            "\u001b[36m(ClientAppActor pid=24454)\u001b[0m [Client 701, round 2] fit, config: {'server_round': 2, 'local_epochs': 3}\n",
            "\u001b[36m(ClientAppActor pid=24454)\u001b[0m Epoch 1: train loss 0.11475789546966553, accuracy 0.125\n",
            "\u001b[36m(ClientAppActor pid=24454)\u001b[0m Epoch 2: train loss 0.1132333055138588, accuracy 0.225\n",
            "\u001b[36m(ClientAppActor pid=24454)\u001b[0m Epoch 3: train loss 0.11248612403869629, accuracy 0.275\n",
            "\u001b[36m(ClientAppActor pid=24454)\u001b[0m [Client 747, round 2] fit, config: {'server_round': 2, 'local_epochs': 3}\n",
            "\u001b[36m(ClientAppActor pid=24454)\u001b[0m Epoch 1: train loss 0.11494272947311401, accuracy 0.1\n",
            "\u001b[36m(ClientAppActor pid=24454)\u001b[0m Epoch 2: train loss 0.114155113697052, accuracy 0.35\n",
            "\u001b[36m(ClientAppActor pid=24454)\u001b[0m Epoch 3: train loss 0.1137232780456543, accuracy 0.2\n",
            "\u001b[36m(ClientAppActor pid=24454)\u001b[0m [Client 844, round 2] fit, config: {'server_round': 2, 'local_epochs': 3}\n",
            "\u001b[36m(ClientAppActor pid=24454)\u001b[0m Epoch 1: train loss 0.11498546600341797, accuracy 0.1\n",
            "\u001b[36m(ClientAppActor pid=24454)\u001b[0m Epoch 2: train loss 0.11470936983823776, accuracy 0.175\n",
            "\u001b[36m(ClientAppActor pid=24454)\u001b[0m Epoch 3: train loss 0.11356174945831299, accuracy 0.25\n",
            "\u001b[36m(ClientAppActor pid=24454)\u001b[0m [Client 889, round 2] fit, config: {'server_round': 2, 'local_epochs': 3}\n",
            "\u001b[36m(ClientAppActor pid=24454)\u001b[0m Epoch 1: train loss 0.11480171978473663, accuracy 0.125\n",
            "\u001b[36m(ClientAppActor pid=24454)\u001b[0m Epoch 2: train loss 0.11385264247655869, accuracy 0.15\n",
            "\u001b[36m(ClientAppActor pid=24454)\u001b[0m Epoch 3: train loss 0.11367056518793106, accuracy 0.15\n",
            "\u001b[36m(ClientAppActor pid=24454)\u001b[0m [Client 904, round 2] fit, config: {'server_round': 2, 'local_epochs': 3}\n",
            "\u001b[36m(ClientAppActor pid=24454)\u001b[0m Epoch 1: train loss 0.11507093906402588, accuracy 0.175\n",
            "\u001b[36m(ClientAppActor pid=24454)\u001b[0m Epoch 2: train loss 0.11436481773853302, accuracy 0.175\n",
            "\u001b[36m(ClientAppActor pid=24454)\u001b[0m Epoch 3: train loss 0.11259372532367706, accuracy 0.2\n",
            "\u001b[36m(ClientAppActor pid=24454)\u001b[0m [Client 913, round 2] fit, config: {'server_round': 2, 'local_epochs': 3}\n",
            "\u001b[36m(ClientAppActor pid=24454)\u001b[0m Epoch 1: train loss 0.11571294069290161, accuracy 0.05\n",
            "\u001b[36m(ClientAppActor pid=24454)\u001b[0m Epoch 2: train loss 0.1145397424697876, accuracy 0.175\n",
            "\u001b[36m(ClientAppActor pid=24454)\u001b[0m Epoch 3: train loss 0.11299009621143341, accuracy 0.325\n",
            "\u001b[36m(ClientAppActor pid=24454)\u001b[0m [Client 938, round 2] fit, config: {'server_round': 2, 'local_epochs': 3}\n",
            "\u001b[36m(ClientAppActor pid=24454)\u001b[0m Epoch 1: train loss 0.11552510410547256, accuracy 0.1\n",
            "\u001b[36m(ClientAppActor pid=24454)\u001b[0m Epoch 2: train loss 0.11408326774835587, accuracy 0.175\n",
            "\u001b[36m(ClientAppActor pid=24454)\u001b[0m Epoch 3: train loss 0.11299438774585724, accuracy 0.25\n",
            "\u001b[36m(ClientAppActor pid=24454)\u001b[0m [Client 642, round 2] fit, config: {'server_round': 2, 'local_epochs': 3}\n",
            "\u001b[36m(ClientAppActor pid=24454)\u001b[0m Epoch 1: train loss 0.1162111759185791, accuracy 0.1\n",
            "\u001b[36m(ClientAppActor pid=24454)\u001b[0m Epoch 2: train loss 0.11407901346683502, accuracy 0.1\n",
            "\u001b[36m(ClientAppActor pid=24454)\u001b[0m Epoch 3: train loss 0.1146586686372757, accuracy 0.1\n",
            "\u001b[36m(ClientAppActor pid=24454)\u001b[0m [Client 591, round 2] fit, config: {'server_round': 2, 'local_epochs': 3}\n",
            "\u001b[36m(ClientAppActor pid=24454)\u001b[0m Epoch 1: train loss 0.11568553745746613, accuracy 0.175\n",
            "\u001b[36m(ClientAppActor pid=24454)\u001b[0m Epoch 2: train loss 0.11389975994825363, accuracy 0.2\n",
            "\u001b[36m(ClientAppActor pid=24454)\u001b[0m Epoch 3: train loss 0.11234334856271744, accuracy 0.25\n",
            "\u001b[36m(ClientAppActor pid=24454)\u001b[0m [Client 500, round 2] fit, config: {'server_round': 2, 'local_epochs': 3}\n",
            "\u001b[36m(ClientAppActor pid=24454)\u001b[0m Epoch 1: train loss 0.11541104316711426, accuracy 0.175\n",
            "\u001b[36m(ClientAppActor pid=24454)\u001b[0m Epoch 2: train loss 0.11408399790525436, accuracy 0.15\n",
            "\u001b[36m(ClientAppActor pid=24454)\u001b[0m Epoch 3: train loss 0.1132054552435875, accuracy 0.125\n",
            "\u001b[36m(ClientAppActor pid=24454)\u001b[0m [Client 97, round 2] fit, config: {'server_round': 2, 'local_epochs': 3}\n",
            "\u001b[36m(ClientAppActor pid=24454)\u001b[0m Epoch 1: train loss 0.11504479497671127, accuracy 0.125\n",
            "\u001b[36m(ClientAppActor pid=24454)\u001b[0m Epoch 2: train loss 0.11440384387969971, accuracy 0.175\n",
            "\u001b[36m(ClientAppActor pid=24454)\u001b[0m Epoch 3: train loss 0.11321451514959335, accuracy 0.2\n",
            "\u001b[36m(ClientAppActor pid=24454)\u001b[0m [Client 607, round 2] fit, config: {'server_round': 2, 'local_epochs': 3}\n",
            "\u001b[36m(ClientAppActor pid=24454)\u001b[0m Epoch 1: train loss 0.1159433126449585, accuracy 0.125\n",
            "\u001b[36m(ClientAppActor pid=24454)\u001b[0m Epoch 2: train loss 0.11454100906848907, accuracy 0.15\n",
            "\u001b[36m(ClientAppActor pid=24454)\u001b[0m Epoch 3: train loss 0.11368995904922485, accuracy 0.15\n",
            "\u001b[36m(ClientAppActor pid=24454)\u001b[0m \n",
            "\u001b[36m(ClientAppActor pid=24454)\u001b[0m [Client 558, round 2] fit, config: {'server_round': 2, 'local_epochs': 3}\n",
            "\u001b[36m(ClientAppActor pid=24454)\u001b[0m Epoch 1: train loss 0.11472567170858383, accuracy 0.1\n",
            "\u001b[36m(ClientAppActor pid=24454)\u001b[0m Epoch 2: train loss 0.11385317146778107, accuracy 0.2\n",
            "\u001b[36m(ClientAppActor pid=24454)\u001b[0m Epoch 3: train loss 0.11158418655395508, accuracy 0.175\n",
            "\u001b[36m(ClientAppActor pid=24454)\u001b[0m [Client 605, round 2] fit, config: {'server_round': 2, 'local_epochs': 3}\n",
            "\u001b[36m(ClientAppActor pid=24454)\u001b[0m Epoch 1: train loss 0.11375675350427628, accuracy 0.2\n",
            "\u001b[36m(ClientAppActor pid=24454)\u001b[0m Epoch 2: train loss 0.11230897903442383, accuracy 0.325\n",
            "\u001b[36m(ClientAppActor pid=24454)\u001b[0m Epoch 3: train loss 0.11223562806844711, accuracy 0.325\n"
          ]
        },
        {
          "output_type": "stream",
          "name": "stderr",
          "text": [
            "\u001b[92mINFO \u001b[0m:      aggregate_fit: received 25 results and 0 failures\n",
            "\u001b[92mINFO \u001b[0m:      configure_evaluate: strategy sampled 50 clients (out of 1000)\n"
          ]
        },
        {
          "output_type": "stream",
          "name": "stdout",
          "text": [
            "\u001b[36m(ClientAppActor pid=24454)\u001b[0m [Client 386, round 2] fit, config: {'server_round': 2, 'local_epochs': 3}\n",
            "\u001b[36m(ClientAppActor pid=24454)\u001b[0m Epoch 1: train loss 0.1153130754828453, accuracy 0.1\n",
            "\u001b[36m(ClientAppActor pid=24454)\u001b[0m Epoch 2: train loss 0.11317944526672363, accuracy 0.15\n",
            "\u001b[36m(ClientAppActor pid=24454)\u001b[0m Epoch 3: train loss 0.11139731854200363, accuracy 0.325\n",
            "\u001b[36m(ClientAppActor pid=24454)\u001b[0m [Client 73] evaluate, config: {}\n",
            "\u001b[36m(ClientAppActor pid=24454)\u001b[0m [Client 154] evaluate, config: {}\n",
            "\u001b[36m(ClientAppActor pid=24454)\u001b[0m [Client 214] evaluate, config: {}\n",
            "\u001b[36m(ClientAppActor pid=24454)\u001b[0m [Client 507] evaluate, config: {}\n",
            "\u001b[36m(ClientAppActor pid=24454)\u001b[0m [Client 553] evaluate, config: {}\n",
            "\u001b[36m(ClientAppActor pid=24454)\u001b[0m [Client 558] evaluate, config: {}\n",
            "\u001b[36m(ClientAppActor pid=24454)\u001b[0m [Client 651] evaluate, config: {}\n",
            "\u001b[36m(ClientAppActor pid=24454)\u001b[0m [Client 750] evaluate, config: {}\n",
            "\u001b[36m(ClientAppActor pid=24454)\u001b[0m [Client 752] evaluate, config: {}\n",
            "\u001b[36m(ClientAppActor pid=24454)\u001b[0m [Client 799] evaluate, config: {}\n",
            "\u001b[36m(ClientAppActor pid=24454)\u001b[0m [Client 814] evaluate, config: {}\n",
            "\u001b[36m(ClientAppActor pid=24454)\u001b[0m [Client 841] evaluate, config: {}\n",
            "\u001b[36m(ClientAppActor pid=24454)\u001b[0m [Client 849] evaluate, config: {}\n",
            "\u001b[36m(ClientAppActor pid=24454)\u001b[0m [Client 914] evaluate, config: {}\n",
            "\u001b[36m(ClientAppActor pid=24454)\u001b[0m [Client 976] evaluate, config: {}\n",
            "\u001b[36m(ClientAppActor pid=24454)\u001b[0m [Client 995] evaluate, config: {}\n",
            "\u001b[36m(ClientAppActor pid=24454)\u001b[0m [Client 452] evaluate, config: {}\n",
            "\u001b[36m(ClientAppActor pid=24454)\u001b[0m [Client 224] evaluate, config: {}\n",
            "\u001b[36m(ClientAppActor pid=24454)\u001b[0m [Client 193] evaluate, config: {}\n",
            "\u001b[36m(ClientAppActor pid=24454)\u001b[0m [Client 521] evaluate, config: {}\n",
            "\u001b[36m(ClientAppActor pid=24454)\u001b[0m [Client 0] evaluate, config: {}\n",
            "\u001b[36m(ClientAppActor pid=24454)\u001b[0m [Client 503] evaluate, config: {}\n",
            "\u001b[36m(ClientAppActor pid=24454)\u001b[0m [Client 638] evaluate, config: {}\n",
            "\u001b[36m(ClientAppActor pid=24454)\u001b[0m [Client 293] evaluate, config: {}\n",
            "\u001b[36m(ClientAppActor pid=24454)\u001b[0m [Client 242] evaluate, config: {}\n",
            "\u001b[36m(ClientAppActor pid=24454)\u001b[0m [Client 611] evaluate, config: {}\n",
            "\u001b[36m(ClientAppActor pid=24454)\u001b[0m [Client 326] evaluate, config: {}\n",
            "\u001b[36m(ClientAppActor pid=24454)\u001b[0m [Client 465] evaluate, config: {}\n",
            "\u001b[36m(ClientAppActor pid=24454)\u001b[0m [Client 400] evaluate, config: {}\n",
            "\u001b[36m(ClientAppActor pid=24454)\u001b[0m [Client 339] evaluate, config: {}\n",
            "\u001b[36m(ClientAppActor pid=24454)\u001b[0m [Client 650] evaluate, config: {}\n",
            "\u001b[36m(ClientAppActor pid=24454)\u001b[0m [Client 204] evaluate, config: {}\n",
            "\u001b[36m(ClientAppActor pid=24454)\u001b[0m [Client 792] evaluate, config: {}\n",
            "\u001b[36m(ClientAppActor pid=24454)\u001b[0m [Client 740] evaluate, config: {}\n",
            "\u001b[36m(ClientAppActor pid=24454)\u001b[0m [Client 345] evaluate, config: {}\n",
            "\u001b[36m(ClientAppActor pid=24454)\u001b[0m [Client 68] evaluate, config: {}\n",
            "\u001b[36m(ClientAppActor pid=24454)\u001b[0m [Client 565] evaluate, config: {}\n",
            "\u001b[36m(ClientAppActor pid=24454)\u001b[0m [Client 100] evaluate, config: {}\n",
            "\u001b[36m(ClientAppActor pid=24454)\u001b[0m [Client 398] evaluate, config: {}\n",
            "\u001b[36m(ClientAppActor pid=24454)\u001b[0m [Client 741] evaluate, config: {}\n",
            "\u001b[36m(ClientAppActor pid=24454)\u001b[0m [Client 756] evaluate, config: {}\n",
            "\u001b[36m(ClientAppActor pid=24454)\u001b[0m [Client 209] evaluate, config: {}\n",
            "\u001b[36m(ClientAppActor pid=24454)\u001b[0m [Client 835] evaluate, config: {}\n",
            "\u001b[36m(ClientAppActor pid=24454)\u001b[0m [Client 315] evaluate, config: {}\n",
            "\u001b[36m(ClientAppActor pid=24454)\u001b[0m [Client 194] evaluate, config: {}\n",
            "\u001b[36m(ClientAppActor pid=24454)\u001b[0m [Client 794] evaluate, config: {}\n",
            "\u001b[36m(ClientAppActor pid=24454)\u001b[0m [Client 761] evaluate, config: {}\n",
            "\u001b[36m(ClientAppActor pid=24454)\u001b[0m [Client 256] evaluate, config: {}\n",
            "\u001b[36m(ClientAppActor pid=24454)\u001b[0m [Client 531] evaluate, config: {}\n"
          ]
        },
        {
          "output_type": "stream",
          "name": "stderr",
          "text": [
            "\u001b[92mINFO \u001b[0m:      aggregate_evaluate: received 50 results and 0 failures\n",
            "\u001b[92mINFO \u001b[0m:      \n",
            "\u001b[92mINFO \u001b[0m:      [ROUND 3]\n",
            "\u001b[92mINFO \u001b[0m:      configure_fit: strategy sampled 25 clients (out of 1000)\n"
          ]
        },
        {
          "output_type": "stream",
          "name": "stdout",
          "text": [
            "\u001b[36m(ClientAppActor pid=24454)\u001b[0m [Client 286] evaluate, config: {}\n",
            "\u001b[36m(ClientAppActor pid=24454)\u001b[0m [Client 58, round 3] fit, config: {'server_round': 3, 'local_epochs': 3}\n",
            "\u001b[36m(ClientAppActor pid=24454)\u001b[0m Epoch 1: train loss 0.11465587466955185, accuracy 0.225\n",
            "\u001b[36m(ClientAppActor pid=24454)\u001b[0m Epoch 2: train loss 0.11369922012090683, accuracy 0.3\n",
            "\u001b[36m(ClientAppActor pid=24454)\u001b[0m Epoch 3: train loss 0.11147977411746979, accuracy 0.25\n",
            "\u001b[36m(ClientAppActor pid=24454)\u001b[0m [Client 73, round 3] fit, config: {'server_round': 3, 'local_epochs': 3}\n",
            "\u001b[36m(ClientAppActor pid=24454)\u001b[0m Epoch 1: train loss 0.11487819254398346, accuracy 0.125\n",
            "\u001b[36m(ClientAppActor pid=24454)\u001b[0m Epoch 2: train loss 0.11348383873701096, accuracy 0.225\n",
            "\u001b[36m(ClientAppActor pid=24454)\u001b[0m Epoch 3: train loss 0.11297581344842911, accuracy 0.175\n",
            "\u001b[36m(ClientAppActor pid=24454)\u001b[0m [Client 94, round 3] fit, config: {'server_round': 3, 'local_epochs': 3}\n",
            "\u001b[36m(ClientAppActor pid=24454)\u001b[0m Epoch 1: train loss 0.1136440560221672, accuracy 0.275\n",
            "\u001b[36m(ClientAppActor pid=24454)\u001b[0m Epoch 2: train loss 0.10828721523284912, accuracy 0.35\n",
            "\u001b[36m(ClientAppActor pid=24454)\u001b[0m Epoch 3: train loss 0.10819420963525772, accuracy 0.3\n",
            "\u001b[36m(ClientAppActor pid=24454)\u001b[0m [Client 104, round 3] fit, config: {'server_round': 3, 'local_epochs': 3}\n",
            "\u001b[36m(ClientAppActor pid=24454)\u001b[0m Epoch 1: train loss 0.11357233673334122, accuracy 0.1\n",
            "\u001b[36m(ClientAppActor pid=24454)\u001b[0m Epoch 2: train loss 0.11211442202329636, accuracy 0.3\n",
            "\u001b[36m(ClientAppActor pid=24454)\u001b[0m Epoch 3: train loss 0.10993548482656479, accuracy 0.3\n",
            "\u001b[36m(ClientAppActor pid=24454)\u001b[0m [Client 124, round 3] fit, config: {'server_round': 3, 'local_epochs': 3}\n",
            "\u001b[36m(ClientAppActor pid=24454)\u001b[0m Epoch 1: train loss 0.11421547085046768, accuracy 0.15\n",
            "\u001b[36m(ClientAppActor pid=24454)\u001b[0m Epoch 2: train loss 0.11148615181446075, accuracy 0.175\n",
            "\u001b[36m(ClientAppActor pid=24454)\u001b[0m Epoch 3: train loss 0.10948164761066437, accuracy 0.225\n",
            "\u001b[36m(ClientAppActor pid=24454)\u001b[0m [Client 144, round 3] fit, config: {'server_round': 3, 'local_epochs': 3}\n",
            "\u001b[36m(ClientAppActor pid=24454)\u001b[0m Epoch 1: train loss 0.11448216438293457, accuracy 0.125\n",
            "\u001b[36m(ClientAppActor pid=24454)\u001b[0m Epoch 2: train loss 0.11247482150793076, accuracy 0.25\n",
            "\u001b[36m(ClientAppActor pid=24454)\u001b[0m Epoch 3: train loss 0.10979403555393219, accuracy 0.275\n",
            "\u001b[36m(ClientAppActor pid=24454)\u001b[0m [Client 322, round 3] fit, config: {'server_round': 3, 'local_epochs': 3}\n",
            "\u001b[36m(ClientAppActor pid=24454)\u001b[0m Epoch 1: train loss 0.11444685608148575, accuracy 0.15\n",
            "\u001b[36m(ClientAppActor pid=24454)\u001b[0m Epoch 2: train loss 0.11326861381530762, accuracy 0.175\n",
            "\u001b[36m(ClientAppActor pid=24454)\u001b[0m Epoch 3: train loss 0.11066992580890656, accuracy 0.225\n",
            "\u001b[36m(ClientAppActor pid=24454)\u001b[0m [Client 527, round 3] fit, config: {'server_round': 3, 'local_epochs': 3}\n",
            "\u001b[36m(ClientAppActor pid=24454)\u001b[0m Epoch 1: train loss 0.11387234181165695, accuracy 0.175\n",
            "\u001b[36m(ClientAppActor pid=24454)\u001b[0m Epoch 2: train loss 0.11254458874464035, accuracy 0.2\n",
            "\u001b[36m(ClientAppActor pid=24454)\u001b[0m Epoch 3: train loss 0.11033179610967636, accuracy 0.225\n",
            "\u001b[36m(ClientAppActor pid=24454)\u001b[0m [Client 552, round 3] fit, config: {'server_round': 3, 'local_epochs': 3}\n",
            "\u001b[36m(ClientAppActor pid=24454)\u001b[0m Epoch 1: train loss 0.11387965828180313, accuracy 0.225\n",
            "\u001b[36m(ClientAppActor pid=24454)\u001b[0m Epoch 2: train loss 0.11073827743530273, accuracy 0.3\n",
            "\u001b[36m(ClientAppActor pid=24454)\u001b[0m Epoch 3: train loss 0.11010513454675674, accuracy 0.275\n",
            "\u001b[36m(ClientAppActor pid=24454)\u001b[0m [Client 576, round 3] fit, config: {'server_round': 3, 'local_epochs': 3}\n",
            "\u001b[36m(ClientAppActor pid=24454)\u001b[0m Epoch 1: train loss 0.11385655403137207, accuracy 0.275\n",
            "\u001b[36m(ClientAppActor pid=24454)\u001b[0m Epoch 2: train loss 0.1112341657280922, accuracy 0.225\n",
            "\u001b[36m(ClientAppActor pid=24454)\u001b[0m Epoch 3: train loss 0.10627765953540802, accuracy 0.225\n",
            "\u001b[36m(ClientAppActor pid=24454)\u001b[0m [Client 702, round 3] fit, config: {'server_round': 3, 'local_epochs': 3}\n",
            "\u001b[36m(ClientAppActor pid=24454)\u001b[0m Epoch 1: train loss 0.11385224014520645, accuracy 0.225\n",
            "\u001b[36m(ClientAppActor pid=24454)\u001b[0m Epoch 2: train loss 0.11155185848474503, accuracy 0.225\n",
            "\u001b[36m(ClientAppActor pid=24454)\u001b[0m Epoch 3: train loss 0.11072758585214615, accuracy 0.325\n",
            "\u001b[36m(ClientAppActor pid=24454)\u001b[0m [Client 705, round 3] fit, config: {'server_round': 3, 'local_epochs': 3}\n",
            "\u001b[36m(ClientAppActor pid=24454)\u001b[0m Epoch 1: train loss 0.11426599323749542, accuracy 0.175\n",
            "\u001b[36m(ClientAppActor pid=24454)\u001b[0m Epoch 2: train loss 0.11212165653705597, accuracy 0.275\n",
            "\u001b[36m(ClientAppActor pid=24454)\u001b[0m Epoch 3: train loss 0.10762351006269455, accuracy 0.35\n",
            "\u001b[36m(ClientAppActor pid=24454)\u001b[0m [Client 816, round 3] fit, config: {'server_round': 3, 'local_epochs': 3}\n",
            "\u001b[36m(ClientAppActor pid=24454)\u001b[0m Epoch 1: train loss 0.11200535297393799, accuracy 0.325\n",
            "\u001b[36m(ClientAppActor pid=24454)\u001b[0m Epoch 2: train loss 0.10884439200162888, accuracy 0.325\n",
            "\u001b[36m(ClientAppActor pid=24454)\u001b[0m Epoch 3: train loss 0.10352390259504318, accuracy 0.2\n",
            "\u001b[36m(ClientAppActor pid=24454)\u001b[0m [Client 840, round 3] fit, config: {'server_round': 3, 'local_epochs': 3}\n",
            "\u001b[36m(ClientAppActor pid=24454)\u001b[0m Epoch 1: train loss 0.11474187672138214, accuracy 0.175\n",
            "\u001b[36m(ClientAppActor pid=24454)\u001b[0m Epoch 2: train loss 0.11341877281665802, accuracy 0.225\n",
            "\u001b[36m(ClientAppActor pid=24454)\u001b[0m Epoch 3: train loss 0.11078033596277237, accuracy 0.35\n",
            "\u001b[36m(ClientAppActor pid=24454)\u001b[0m [Client 918, round 3] fit, config: {'server_round': 3, 'local_epochs': 3}\n",
            "\u001b[36m(ClientAppActor pid=24454)\u001b[0m Epoch 1: train loss 0.11364679783582687, accuracy 0.125\n",
            "\u001b[36m(ClientAppActor pid=24454)\u001b[0m Epoch 2: train loss 0.11169717460870743, accuracy 0.2\n",
            "\u001b[36m(ClientAppActor pid=24454)\u001b[0m Epoch 3: train loss 0.10995513200759888, accuracy 0.2\n",
            "\u001b[36m(ClientAppActor pid=24454)\u001b[0m [Client 998, round 3] fit, config: {'server_round': 3, 'local_epochs': 3}\n",
            "\u001b[36m(ClientAppActor pid=24454)\u001b[0m Epoch 1: train loss 0.11493779718875885, accuracy 0.175\n",
            "\u001b[36m(ClientAppActor pid=24454)\u001b[0m Epoch 2: train loss 0.11315996944904327, accuracy 0.25\n",
            "\u001b[36m(ClientAppActor pid=24454)\u001b[0m Epoch 3: train loss 0.11230055242776871, accuracy 0.2\n",
            "\u001b[36m(ClientAppActor pid=24454)\u001b[0m [Client 307, round 3] fit, config: {'server_round': 3, 'local_epochs': 3}\n",
            "\u001b[36m(ClientAppActor pid=24454)\u001b[0m Epoch 1: train loss 0.11460249871015549, accuracy 0.175\n",
            "\u001b[36m(ClientAppActor pid=24454)\u001b[0m Epoch 2: train loss 0.11281879991292953, accuracy 0.15\n",
            "\u001b[36m(ClientAppActor pid=24454)\u001b[0m Epoch 3: train loss 0.11067274957895279, accuracy 0.3\n",
            "\u001b[36m(ClientAppActor pid=24454)\u001b[0m [Client 817, round 3] fit, config: {'server_round': 3, 'local_epochs': 3}\n",
            "\u001b[36m(ClientAppActor pid=24454)\u001b[0m Epoch 1: train loss 0.11356499046087265, accuracy 0.1\n",
            "\u001b[36m(ClientAppActor pid=24454)\u001b[0m Epoch 2: train loss 0.11060657352209091, accuracy 0.25\n",
            "\u001b[36m(ClientAppActor pid=24454)\u001b[0m Epoch 3: train loss 0.10695816576480865, accuracy 0.25\n",
            "\u001b[36m(ClientAppActor pid=24454)\u001b[0m [Client 781, round 3] fit, config: {'server_round': 3, 'local_epochs': 3}\n",
            "\u001b[36m(ClientAppActor pid=24454)\u001b[0m Epoch 1: train loss 0.11380944401025772, accuracy 0.15\n",
            "\u001b[36m(ClientAppActor pid=24454)\u001b[0m Epoch 2: train loss 0.11232488602399826, accuracy 0.35\n",
            "\u001b[36m(ClientAppActor pid=24454)\u001b[0m Epoch 3: train loss 0.10853966325521469, accuracy 0.275\n",
            "\u001b[36m(ClientAppActor pid=24454)\u001b[0m [Client 60, round 3] fit, config: {'server_round': 3, 'local_epochs': 3}\n",
            "\u001b[36m(ClientAppActor pid=24454)\u001b[0m Epoch 1: train loss 0.11373250931501389, accuracy 0.325\n",
            "\u001b[36m(ClientAppActor pid=24454)\u001b[0m Epoch 2: train loss 0.11171257495880127, accuracy 0.375\n",
            "\u001b[36m(ClientAppActor pid=24454)\u001b[0m Epoch 3: train loss 0.11031394451856613, accuracy 0.35\n",
            "\u001b[36m(ClientAppActor pid=24454)\u001b[0m [Client 844, round 3] fit, config: {'server_round': 3, 'local_epochs': 3}\n",
            "\u001b[36m(ClientAppActor pid=24454)\u001b[0m Epoch 1: train loss 0.1145181879401207, accuracy 0.125\n",
            "\u001b[36m(ClientAppActor pid=24454)\u001b[0m Epoch 2: train loss 0.11249575763940811, accuracy 0.225\n",
            "\u001b[36m(ClientAppActor pid=24454)\u001b[0m Epoch 3: train loss 0.11143019050359726, accuracy 0.25\n",
            "\u001b[36m(ClientAppActor pid=24454)\u001b[0m [Client 856, round 3] fit, config: {'server_round': 3, 'local_epochs': 3}\n",
            "\u001b[36m(ClientAppActor pid=24454)\u001b[0m Epoch 1: train loss 0.11287398636341095, accuracy 0.175\n",
            "\u001b[36m(ClientAppActor pid=24454)\u001b[0m Epoch 2: train loss 0.1120639219880104, accuracy 0.25\n",
            "\u001b[36m(ClientAppActor pid=24454)\u001b[0m Epoch 3: train loss 0.10792946070432663, accuracy 0.25\n",
            "\u001b[36m(ClientAppActor pid=24454)\u001b[0m [Client 476, round 3] fit, config: {'server_round': 3, 'local_epochs': 3}\n",
            "\u001b[36m(ClientAppActor pid=24454)\u001b[0m Epoch 1: train loss 0.11550994962453842, accuracy 0.175\n",
            "\u001b[36m(ClientAppActor pid=24454)\u001b[0m Epoch 2: train loss 0.11340558528900146, accuracy 0.15\n",
            "\u001b[36m(ClientAppActor pid=24454)\u001b[0m Epoch 3: train loss 0.11257113516330719, accuracy 0.175\n",
            "\u001b[36m(ClientAppActor pid=24454)\u001b[0m [Client 77, round 3] fit, config: {'server_round': 3, 'local_epochs': 3}\n",
            "\u001b[36m(ClientAppActor pid=24454)\u001b[0m Epoch 1: train loss 0.114459328353405, accuracy 0.175\n",
            "\u001b[36m(ClientAppActor pid=24454)\u001b[0m Epoch 2: train loss 0.11032690107822418, accuracy 0.25\n",
            "\u001b[36m(ClientAppActor pid=24454)\u001b[0m Epoch 3: train loss 0.11087490618228912, accuracy 0.225\n"
          ]
        },
        {
          "output_type": "stream",
          "name": "stderr",
          "text": [
            "\u001b[92mINFO \u001b[0m:      aggregate_fit: received 25 results and 0 failures\n",
            "\u001b[92mINFO \u001b[0m:      configure_evaluate: strategy sampled 50 clients (out of 1000)\n"
          ]
        },
        {
          "output_type": "stream",
          "name": "stdout",
          "text": [
            "\u001b[36m(ClientAppActor pid=24454)\u001b[0m [Client 436, round 3] fit, config: {'server_round': 3, 'local_epochs': 3}\n",
            "\u001b[36m(ClientAppActor pid=24454)\u001b[0m Epoch 1: train loss 0.1131400614976883, accuracy 0.275\n",
            "\u001b[36m(ClientAppActor pid=24454)\u001b[0m Epoch 2: train loss 0.11293371021747589, accuracy 0.275\n",
            "\u001b[36m(ClientAppActor pid=24454)\u001b[0m Epoch 3: train loss 0.10882675647735596, accuracy 0.275\n",
            "\u001b[36m(ClientAppActor pid=24454)\u001b[0m [Client 5] evaluate, config: {}\n",
            "\u001b[36m(ClientAppActor pid=24454)\u001b[0m [Client 342] evaluate, config: {}\n",
            "\u001b[36m(ClientAppActor pid=24454)\u001b[0m [Client 695] evaluate, config: {}\n",
            "\u001b[36m(ClientAppActor pid=24454)\u001b[0m [Client 993] evaluate, config: {}\n",
            "\u001b[36m(ClientAppActor pid=24454)\u001b[0m [Client 20] evaluate, config: {}\n",
            "\u001b[36m(ClientAppActor pid=24454)\u001b[0m [Client 39] evaluate, config: {}\n",
            "\u001b[36m(ClientAppActor pid=24454)\u001b[0m [Client 72] evaluate, config: {}\n",
            "\u001b[36m(ClientAppActor pid=24454)\u001b[0m [Client 183] evaluate, config: {}\n",
            "\u001b[36m(ClientAppActor pid=24454)\u001b[0m [Client 345] evaluate, config: {}\n",
            "\u001b[36m(ClientAppActor pid=24454)\u001b[0m [Client 488] evaluate, config: {}\n",
            "\u001b[36m(ClientAppActor pid=24454)\u001b[0m [Client 525] evaluate, config: {}\n",
            "\u001b[36m(ClientAppActor pid=24454)\u001b[0m [Client 558] evaluate, config: {}\n",
            "\u001b[36m(ClientAppActor pid=24454)\u001b[0m [Client 677] evaluate, config: {}\n",
            "\u001b[36m(ClientAppActor pid=24454)\u001b[0m [Client 777] evaluate, config: {}\n",
            "\u001b[36m(ClientAppActor pid=24454)\u001b[0m [Client 889] evaluate, config: {}\n",
            "\u001b[36m(ClientAppActor pid=24454)\u001b[0m [Client 966] evaluate, config: {}\n",
            "\u001b[36m(ClientAppActor pid=24454)\u001b[0m [Client 370] evaluate, config: {}\n",
            "\u001b[36m(ClientAppActor pid=24454)\u001b[0m [Client 123] evaluate, config: {}\n",
            "\u001b[36m(ClientAppActor pid=24454)\u001b[0m [Client 140] evaluate, config: {}\n",
            "\u001b[36m(ClientAppActor pid=24454)\u001b[0m [Client 609] evaluate, config: {}\n",
            "\u001b[36m(ClientAppActor pid=24454)\u001b[0m [Client 429] evaluate, config: {}\n",
            "\u001b[36m(ClientAppActor pid=24454)\u001b[0m [Client 538] evaluate, config: {}\n",
            "\u001b[36m(ClientAppActor pid=24454)\u001b[0m [Client 613] evaluate, config: {}\n",
            "\u001b[36m(ClientAppActor pid=24454)\u001b[0m [Client 883] evaluate, config: {}\n",
            "\u001b[36m(ClientAppActor pid=24454)\u001b[0m [Client 444] evaluate, config: {}\n",
            "\u001b[36m(ClientAppActor pid=24454)\u001b[0m [Client 817] evaluate, config: {}\n",
            "\u001b[36m(ClientAppActor pid=24454)\u001b[0m [Client 974] evaluate, config: {}\n",
            "\u001b[36m(ClientAppActor pid=24454)\u001b[0m [Client 220] evaluate, config: {}\n",
            "\u001b[36m(ClientAppActor pid=24454)\u001b[0m [Client 492] evaluate, config: {}\n",
            "\u001b[36m(ClientAppActor pid=24454)\u001b[0m [Client 563] evaluate, config: {}\n",
            "\u001b[36m(ClientAppActor pid=24454)\u001b[0m [Client 913] evaluate, config: {}\n",
            "\u001b[36m(ClientAppActor pid=24454)\u001b[0m [Client 367] evaluate, config: {}\n",
            "\u001b[36m(ClientAppActor pid=24454)\u001b[0m [Client 460] evaluate, config: {}\n",
            "\u001b[36m(ClientAppActor pid=24454)\u001b[0m [Client 173] evaluate, config: {}\n",
            "\u001b[36m(ClientAppActor pid=24454)\u001b[0m [Client 901] evaluate, config: {}\n",
            "\u001b[36m(ClientAppActor pid=24454)\u001b[0m [Client 740] evaluate, config: {}\n",
            "\u001b[36m(ClientAppActor pid=24454)\u001b[0m [Client 365] evaluate, config: {}\n",
            "\u001b[36m(ClientAppActor pid=24454)\u001b[0m [Client 392] evaluate, config: {}\n",
            "\u001b[36m(ClientAppActor pid=24454)\u001b[0m [Client 210] evaluate, config: {}\n",
            "\u001b[36m(ClientAppActor pid=24454)\u001b[0m [Client 83] evaluate, config: {}\n",
            "\u001b[36m(ClientAppActor pid=24454)\u001b[0m [Client 534] evaluate, config: {}\n",
            "\u001b[36m(ClientAppActor pid=24454)\u001b[0m [Client 133] evaluate, config: {}\n",
            "\u001b[36m(ClientAppActor pid=24454)\u001b[0m [Client 443] evaluate, config: {}\n",
            "\u001b[36m(ClientAppActor pid=24454)\u001b[0m [Client 829] evaluate, config: {}\n",
            "\u001b[36m(ClientAppActor pid=24454)\u001b[0m [Client 617] evaluate, config: {}\n",
            "\u001b[36m(ClientAppActor pid=24454)\u001b[0m [Client 635] evaluate, config: {}\n",
            "\u001b[36m(ClientAppActor pid=24454)\u001b[0m [Client 192] evaluate, config: {}\n",
            "\u001b[36m(ClientAppActor pid=24454)\u001b[0m [Client 240] evaluate, config: {}\n",
            "\u001b[36m(ClientAppActor pid=24454)\u001b[0m [Client 136] evaluate, config: {}\n"
          ]
        },
        {
          "output_type": "stream",
          "name": "stderr",
          "text": [
            "\u001b[92mINFO \u001b[0m:      aggregate_evaluate: received 50 results and 0 failures\n",
            "\u001b[92mINFO \u001b[0m:      \n",
            "\u001b[92mINFO \u001b[0m:      [SUMMARY]\n",
            "\u001b[92mINFO \u001b[0m:      Run finished 3 round(s) in 994.70s\n",
            "\u001b[92mINFO \u001b[0m:      \tHistory (loss, distributed):\n",
            "\u001b[92mINFO \u001b[0m:      \t\tround 1: 0.22963025999069214\n",
            "\u001b[92mINFO \u001b[0m:      \t\tround 2: 0.22835775279998785\n",
            "\u001b[92mINFO \u001b[0m:      \t\tround 3: 0.22558345890045164\n",
            "\u001b[92mINFO \u001b[0m:      \n"
          ]
        },
        {
          "output_type": "stream",
          "name": "stdout",
          "text": [
            "\u001b[36m(ClientAppActor pid=24454)\u001b[0m [Client 890] evaluate, config: {}\n"
          ]
        }
      ],
      "source": [
        "def fit_config(server_round: int):\n",
        "    config = {\n",
        "        \"server_round\": server_round,\n",
        "        \"local_epochs\": 3,\n",
        "    }\n",
        "    return config\n",
        "\n",
        "\n",
        "def server_fn(context: Context) -> ServerAppComponents:\n",
        "    # Create FedAvg strategy\n",
        "    strategy = FedAvg(\n",
        "        fraction_fit=0.025,  # Train on 25 clients (each round)\n",
        "        fraction_evaluate=0.05,  # Evaluate on 50 clients (each round)\n",
        "        min_fit_clients=20,\n",
        "        min_evaluate_clients=40,\n",
        "        min_available_clients=NUM_PARTITIONS,\n",
        "        initial_parameters=ndarrays_to_parameters(params),\n",
        "        on_fit_config_fn=fit_config,\n",
        "    )\n",
        "    config = ServerConfig(num_rounds=3)\n",
        "    return ServerAppComponents(strategy=strategy, config=config)\n",
        "\n",
        "\n",
        "# Create the ServerApp\n",
        "server = ServerApp(server_fn=server_fn)\n",
        "\n",
        "# Run simulation\n",
        "run_simulation(\n",
        "    server_app=server,\n",
        "    client_app=client,\n",
        "    num_supernodes=NUM_PARTITIONS,\n",
        "    backend_config=backend_config,\n",
        ")"
      ]
    },
    {
      "cell_type": "markdown",
      "metadata": {
        "id": "V_y37Lc426pq"
      },
      "source": [
        "## Recap\n",
        "\n",
        "In this notebook, we've seen how we can gradually enhance our system by customizing the strategy, initializing parameters on the server side, choosing a different strategy, and evaluating models on the server-side. That's quite a bit of flexibility with so little code, right?\n",
        "\n",
        "In the later sections, we've seen how we can communicate arbitrary values between server and clients to fully customize client-side execution. With that capability, we built a large-scale Federated Learning simulation using the Flower Virtual Client Engine and ran an experiment involving 1000 clients in the same workload - all in a Jupyter Notebook!"
      ]
    },
    {
      "cell_type": "markdown",
      "metadata": {
        "id": "F7pkBm_h26pq"
      },
      "source": [
        "## Next steps\n",
        "\n",
        "Before you continue, make sure to join the Flower community on Flower Discuss ([Join Flower Discuss](https://discuss.flower.ai)) and on Slack ([Join Slack](https://flower.ai/join-slack/)).\n",
        "\n",
        "There's a dedicated `#questions` channel if you need help, but we'd also love to hear who you are in `#introductions`!\n",
        "\n",
        "The [Flower Federated Learning Tutorial - Part 3](https://flower.ai/docs/framework/tutorial-build-a-strategy-from-scratch-pytorch.html) shows how to build a fully custom `Strategy` from scratch."
      ]
    }
  ],
  "metadata": {
    "colab": {
      "name": "Flower-2-Strategies-in-FL-PyTorch.ipynb",
      "provenance": [],
      "toc_visible": true,
      "gpuType": "A100"
    },
    "kernelspec": {
      "display_name": "Python 3",
      "name": "python3"
    },
    "accelerator": "GPU"
  },
  "nbformat": 4,
  "nbformat_minor": 0
}